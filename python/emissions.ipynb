{
 "cells": [
  {
   "cell_type": "markdown",
   "metadata": {},
   "source": [
    "# Simple script for reading emissions files"
   ]
  },
  {
   "cell_type": "code",
   "execution_count": 3,
   "metadata": {},
   "outputs": [
    {
     "name": "stdout",
     "output_type": "stream",
     "text": [
      "duration: 6683.293081045151\n",
      "emissions: 0.0251818873518219\n",
      "cpu_energy: 0.0417617450952529\n",
      "gpu_energy: 0.0\n",
      "ram_energy: 0.0111349965004126\n",
      "energy_consumed: 0.0528967415956656\n"
     ]
    }
   ],
   "source": [
    "import pandas as pd\n",
    "\n",
    "# Load the CSV file\n",
    "data = pd.read_csv('emissions.csv')\n",
    "\n",
    "# Select the desired columns\n",
    "selected_columns = data[['duration', 'emissions', 'cpu_energy', 'gpu_energy', 'ram_energy', 'energy_consumed']]\n",
    "\n",
    "# Print each column title followed by its value, formatted vertically\n",
    "for column in selected_columns.columns:\n",
    "    print(f\"{column}: {selected_columns.iloc[0][column]}\")\n"
   ]
  },
  {
   "cell_type": "code",
   "execution_count": null,
   "metadata": {},
   "outputs": [],
   "source": []
  }
 ],
 "metadata": {
  "kernelspec": {
   "display_name": "hybrid",
   "language": "python",
   "name": "python3"
  },
  "language_info": {
   "codemirror_mode": {
    "name": "ipython",
    "version": 3
   },
   "file_extension": ".py",
   "mimetype": "text/x-python",
   "name": "python",
   "nbconvert_exporter": "python",
   "pygments_lexer": "ipython3",
   "version": "3.10.15"
  }
 },
 "nbformat": 4,
 "nbformat_minor": 2
}
