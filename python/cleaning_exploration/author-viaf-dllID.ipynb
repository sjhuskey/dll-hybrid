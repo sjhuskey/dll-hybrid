{
 "cells": [
  {
   "cell_type": "markdown",
   "metadata": {},
   "source": [
    "# Augmenting the List of Variant Author Names\n",
    "\n",
    "Since I have the VIAF URI for most of the authors in the DLL Catalog and in Perseus, I'll use those to scrape variant author names from https://viaf.org/."
   ]
  },
  {
   "cell_type": "code",
   "execution_count": 1,
   "metadata": {},
   "outputs": [],
   "source": [
    "'''\n",
    "1. Scrape alternate name forms of authors from VIAF\n",
    "2. Save them in a file with the corresponding DLL Identifier in an adjacent column\n",
    "'''\n",
    "\n",
    "import csv\n",
    "import requests\n",
    "from bs4 import BeautifulSoup\n",
    "import time\n",
    "import random"
   ]
  },
  {
   "cell_type": "code",
   "execution_count": null,
   "metadata": {},
   "outputs": [],
   "source": [
    "def extract_h2_text(url):\n",
    "    headers = {'User-Agent':'Mozilla/5.0 (Macintosh; Intel Mac OS X 10_9_5)'\n",
    "               'AppleWebKit 537.36 (KHTML, like Gecko) Chrome',\n",
    "               'Accept':'text/html,application/xhtml+xml,application/xml;q=0.9,*/*;q=0.8',\n",
    "               'Accept_Language':'en-GB,en;q=0.5'}\n",
    "    response = requests.get(url, headers=headers)\n",
    "    response.encoding = 'utf-8'\n",
    "    soup = BeautifulSoup(response.content, 'html.parser')\n",
    "    title_div = soup.find('div', id='Title')\n",
    "    h2_tags = title_div.find_all('h2') if title_div else []\n",
    "    h2_texts = [h2_tag.get_text(separator=' ', strip=True) for h2_tag in h2_tags]\n",
    "    return h2_texts\n",
    "\n",
    "def read_csv(file_path):\n",
    "    with open(file_path, newline='') as csvfile:\n",
    "        reader = csv.reader(csvfile)\n",
    "        next(reader)  # Skip the header row\n",
    "        # Ignore any empty rows; add real values to VIAF_IDS\n",
    "        data = [(row[2], row[1]) for row in reader if row[2] != '']\n",
    "        return data\n",
    "\n",
    "def write_csv(file_path, data):\n",
    "    with open(file_path, mode='w', newline='') as csvfile:\n",
    "        writer = csv.writer(csvfile)\n",
    "        writer.writerow(['Name', 'DLL Identifier'])\n",
    "        writer.writerows(data)\n",
    "\n",
    "def main(input_csv, output_csv):\n",
    "    rows = read_csv(input_csv)\n",
    "    \n",
    "    with open(output_csv, mode='w', newline='') as csvfile:\n",
    "        writer = csv.writer(csvfile)\n",
    "        writer.writerow(['H2 Text', 'Identifier'])\n",
    "        \n",
    "        for url, identifier in rows:\n",
    "            h2_texts = extract_h2_text(url)\n",
    "            for text in h2_texts:\n",
    "                writer.writerow([text, identifier])\n",
    "                print(text, \", \", identifier)\n",
    "            \n",
    "            # Introduce a random delay between 1 and 5 seconds\n",
    "            delay = random.uniform(1, 5)\n",
    "            time.sleep(delay)\n",
    "\n",
    "if __name__ == \"__main__\":\n",
    "    input_csv = 'input/authors-viaf.csv'  # Replace with your input CSV file path\n",
    "    output_csv = 'output/viaf-authors-output.csv'  # Replace with your desired output CSV file path\n",
    "    main(input_csv, output_csv)"
   ]
  },
  {
   "cell_type": "code",
   "execution_count": null,
   "metadata": {},
   "outputs": [],
   "source": []
  }
 ],
 "metadata": {
  "kernelspec": {
   "display_name": "dll_env",
   "language": "python",
   "name": "python3"
  },
  "language_info": {
   "codemirror_mode": {
    "name": "ipython",
    "version": 3
   },
   "file_extension": ".py",
   "mimetype": "text/x-python",
   "name": "python",
   "nbconvert_exporter": "python",
   "pygments_lexer": "ipython3",
   "version": "3.10.4"
  }
 },
 "nbformat": 4,
 "nbformat_minor": 2
}
