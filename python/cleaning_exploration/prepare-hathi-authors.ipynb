{
 "cells": [
  {
   "cell_type": "markdown",
   "metadata": {},
   "source": [
    "## Prepare the author data scraped from VIAF"
   ]
  },
  {
   "cell_type": "code",
   "execution_count": 1,
   "metadata": {},
   "outputs": [],
   "source": [
    "# Import pandas\n",
    "import pandas as pd"
   ]
  },
  {
   "cell_type": "code",
   "execution_count": 5,
   "metadata": {},
   "outputs": [],
   "source": [
    "# Open the data file\n",
    "df = pd.read_csv('output/viaf-authors-output.csv')"
   ]
  },
  {
   "cell_type": "code",
   "execution_count": 6,
   "metadata": {},
   "outputs": [
    {
     "name": "stdout",
     "output_type": "stream",
     "text": [
      "<class 'pandas.core.frame.DataFrame'>\n",
      "RangeIndex: 24061 entries, 0 to 24060\n",
      "Data columns (total 2 columns):\n",
      " #   Column      Non-Null Count  Dtype \n",
      "---  ------      --------------  ----- \n",
      " 0   H2 Text     24061 non-null  object\n",
      " 1   Identifier  24061 non-null  object\n",
      "dtypes: object(2)\n",
      "memory usage: 376.1+ KB\n"
     ]
    }
   ],
   "source": [
    "# Inspect the file\n",
    "df.info()"
   ]
  },
  {
   "cell_type": "code",
   "execution_count": 10,
   "metadata": {},
   "outputs": [
    {
     "name": "stdout",
     "output_type": "stream",
     "text": [
      "                                       H2 Text Identifier\n",
      "0  Albert, of Aachen, active 11th-12th century      A5558\n",
      "1                    Albert, d'Aix, 11e/12e s.      A5558\n",
      "2                            Albertus Aquensis      A5558\n",
      "3                  Marullo, Michele, 1453-1500      A5552\n",
      "4                           Marullus 1453-1500      A5552\n"
     ]
    }
   ],
   "source": [
    "# View the first five lines\n",
    "print(df.head())"
   ]
  },
  {
   "cell_type": "markdown",
   "metadata": {},
   "source": [
    "The file contains variant names for authors, one variant per row, with the DLL's author identifier in the adjacent column. This is essentially a lookup table, so I'll use it that way. I'll turn it into a Python dictionary. I'll use the `map()` function to look up an author's name from the `author` column in `hathidata`. If a value matches, I'll add the corresponding DLL ID to a new column in `hathidata`."
   ]
  },
  {
   "cell_type": "code",
   "execution_count": null,
   "metadata": {},
   "outputs": [],
   "source": [
    "# Create a dictionary from df2 for lookup\n",
    "lookup_dict = pd.Series(df2.Identifier.values, index=df2['H2 Text']).to_dict()"
   ]
  }
 ],
 "metadata": {
  "kernelspec": {
   "display_name": "aiml",
   "language": "python",
   "name": "python3"
  },
  "language_info": {
   "codemirror_mode": {
    "name": "ipython",
    "version": 3
   },
   "file_extension": ".py",
   "mimetype": "text/x-python",
   "name": "python",
   "nbconvert_exporter": "python",
   "pygments_lexer": "ipython3",
   "version": "3.11.0"
  }
 },
 "nbformat": 4,
 "nbformat_minor": 2
}
