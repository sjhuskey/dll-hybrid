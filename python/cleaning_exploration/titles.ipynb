{
 "cells": [
  {
   "cell_type": "code",
   "execution_count": 1,
   "metadata": {},
   "outputs": [],
   "source": [
    "import pandas as pd"
   ]
  },
  {
   "cell_type": "code",
   "execution_count": 2,
   "metadata": {},
   "outputs": [],
   "source": [
    "dlltitles = pd.read_csv('input/dll-works-and-authors.csv')"
   ]
  },
  {
   "cell_type": "code",
   "execution_count": 4,
   "metadata": {},
   "outputs": [
    {
     "name": "stdout",
     "output_type": "stream",
     "text": [
      "<class 'pandas.core.frame.DataFrame'>\n",
      "RangeIndex: 5279 entries, 0 to 5278\n",
      "Data columns (total 9 columns):\n",
      " #   Column                       Non-Null Count  Dtype \n",
      "---  ------                       --------------  ----- \n",
      " 0   Title                        5279 non-null   object\n",
      " 1   Work Name                    5279 non-null   object\n",
      " 2   Alternative Title            484 non-null    object\n",
      " 3   Short Title                  4 non-null      object\n",
      " 4   Author Name Latin            4753 non-null   object\n",
      " 5   Author Name Native Language  2941 non-null   object\n",
      " 6   Creator                      4957 non-null   object\n",
      " 7   DLL Identifier (Work)        5279 non-null   object\n",
      " 8   DLL Identifier (Author)      4955 non-null   object\n",
      "dtypes: object(9)\n",
      "memory usage: 371.3+ KB\n"
     ]
    }
   ],
   "source": [
    "dlltitles.info()"
   ]
  },
  {
   "cell_type": "code",
   "execution_count": 5,
   "metadata": {},
   "outputs": [
    {
     "data": {
      "text/html": [
       "<div>\n",
       "<style scoped>\n",
       "    .dataframe tbody tr th:only-of-type {\n",
       "        vertical-align: middle;\n",
       "    }\n",
       "\n",
       "    .dataframe tbody tr th {\n",
       "        vertical-align: top;\n",
       "    }\n",
       "\n",
       "    .dataframe thead th {\n",
       "        text-align: right;\n",
       "    }\n",
       "</style>\n",
       "<table border=\"1\" class=\"dataframe\">\n",
       "  <thead>\n",
       "    <tr style=\"text-align: right;\">\n",
       "      <th></th>\n",
       "      <th>Title</th>\n",
       "      <th>Work Name</th>\n",
       "      <th>Alternative Title</th>\n",
       "      <th>Short Title</th>\n",
       "      <th>Author Name Latin</th>\n",
       "      <th>Author Name Native Language</th>\n",
       "      <th>Creator</th>\n",
       "      <th>DLL Identifier (Work)</th>\n",
       "      <th>DLL Identifier (Author)</th>\n",
       "    </tr>\n",
       "  </thead>\n",
       "  <tbody>\n",
       "    <tr>\n",
       "      <th>0</th>\n",
       "      <td>De signis et symptomatibus aegritudinum</td>\n",
       "      <td>De signis et symptomatibus aegritudinum</td>\n",
       "      <td>NaN</td>\n",
       "      <td>NaN</td>\n",
       "      <td>Aegidius Corbeiensis</td>\n",
       "      <td>Gilles de Corbeil</td>\n",
       "      <td>Gilles, de Corbeil, active 1200</td>\n",
       "      <td>W10655</td>\n",
       "      <td>A3919</td>\n",
       "    </tr>\n",
       "    <tr>\n",
       "      <th>1</th>\n",
       "      <td>De coniuratione Porcaria dialogus</td>\n",
       "      <td>De coniuratione Porcaria dialogus</td>\n",
       "      <td>NaN</td>\n",
       "      <td>NaN</td>\n",
       "      <td>NaN</td>\n",
       "      <td>NaN</td>\n",
       "      <td>Godis, Petrus de</td>\n",
       "      <td>W10654</td>\n",
       "      <td>A3221</td>\n",
       "    </tr>\n",
       "    <tr>\n",
       "      <th>2</th>\n",
       "      <td>Alda</td>\n",
       "      <td>Alda</td>\n",
       "      <td>Aldae Comoedia</td>\n",
       "      <td>NaN</td>\n",
       "      <td>Guilelmus Blasensis</td>\n",
       "      <td>NaN</td>\n",
       "      <td>William, of Blois</td>\n",
       "      <td>W10653</td>\n",
       "      <td>A4844</td>\n",
       "    </tr>\n",
       "    <tr>\n",
       "      <th>3</th>\n",
       "      <td>De Viris Illustribus</td>\n",
       "      <td>De Viris Illustribus</td>\n",
       "      <td>NaN</td>\n",
       "      <td>NaN</td>\n",
       "      <td>Gaius Suetonius Tranquillus</td>\n",
       "      <td>Gaius Suetonius Tranquillus</td>\n",
       "      <td>Suetonius, approximately 69-approximately 122</td>\n",
       "      <td>W10652</td>\n",
       "      <td>A4799</td>\n",
       "    </tr>\n",
       "    <tr>\n",
       "      <th>4</th>\n",
       "      <td>De Philosophis</td>\n",
       "      <td>De Philosophis</td>\n",
       "      <td>NaN</td>\n",
       "      <td>NaN</td>\n",
       "      <td>Gaius Suetonius Tranquillus</td>\n",
       "      <td>Gaius Suetonius Tranquillus</td>\n",
       "      <td>Suetonius, approximately 69-approximately 122</td>\n",
       "      <td>W10651</td>\n",
       "      <td>A4799</td>\n",
       "    </tr>\n",
       "  </tbody>\n",
       "</table>\n",
       "</div>"
      ],
      "text/plain": [
       "                                     Title  \\\n",
       "0  De signis et symptomatibus aegritudinum   \n",
       "1        De coniuratione Porcaria dialogus   \n",
       "2                                     Alda   \n",
       "3                     De Viris Illustribus   \n",
       "4                           De Philosophis   \n",
       "\n",
       "                                 Work Name Alternative Title Short Title  \\\n",
       "0  De signis et symptomatibus aegritudinum               NaN         NaN   \n",
       "1        De coniuratione Porcaria dialogus               NaN         NaN   \n",
       "2                                     Alda    Aldae Comoedia         NaN   \n",
       "3                     De Viris Illustribus               NaN         NaN   \n",
       "4                           De Philosophis               NaN         NaN   \n",
       "\n",
       "             Author Name Latin  Author Name Native Language  \\\n",
       "0         Aegidius Corbeiensis            Gilles de Corbeil   \n",
       "1                          NaN                          NaN   \n",
       "2          Guilelmus Blasensis                          NaN   \n",
       "3  Gaius Suetonius Tranquillus  Gaius Suetonius Tranquillus   \n",
       "4  Gaius Suetonius Tranquillus  Gaius Suetonius Tranquillus   \n",
       "\n",
       "                                         Creator DLL Identifier (Work)  \\\n",
       "0                Gilles, de Corbeil, active 1200                W10655   \n",
       "1                               Godis, Petrus de                W10654   \n",
       "2                              William, of Blois                W10653   \n",
       "3  Suetonius, approximately 69-approximately 122                W10652   \n",
       "4  Suetonius, approximately 69-approximately 122                W10651   \n",
       "\n",
       "  DLL Identifier (Author)  \n",
       "0                   A3919  \n",
       "1                   A3221  \n",
       "2                   A4844  \n",
       "3                   A4799  \n",
       "4                   A4799  "
      ]
     },
     "execution_count": 5,
     "metadata": {},
     "output_type": "execute_result"
    }
   ],
   "source": [
    "dlltitles.head()"
   ]
  },
  {
   "cell_type": "code",
   "execution_count": 21,
   "metadata": {},
   "outputs": [],
   "source": [
    "df = dlltitles[['Work Name', 'Alternative Title', 'DLL Identifier (Work)','Creator','DLL Identifier (Author)']]"
   ]
  },
  {
   "cell_type": "code",
   "execution_count": 22,
   "metadata": {},
   "outputs": [],
   "source": [
    "df1 = df.rename(columns={\"Work Name\":\"title\",\"Alternative Title\":\"altTitle\",\"DLL Identifier (Work)\":\"workID\",\"Creator\":\"author\",\"DLL Identifier (Author)\":\"authorID\"})"
   ]
  },
  {
   "cell_type": "code",
   "execution_count": 23,
   "metadata": {},
   "outputs": [
    {
     "data": {
      "text/html": [
       "<div>\n",
       "<style scoped>\n",
       "    .dataframe tbody tr th:only-of-type {\n",
       "        vertical-align: middle;\n",
       "    }\n",
       "\n",
       "    .dataframe tbody tr th {\n",
       "        vertical-align: top;\n",
       "    }\n",
       "\n",
       "    .dataframe thead th {\n",
       "        text-align: right;\n",
       "    }\n",
       "</style>\n",
       "<table border=\"1\" class=\"dataframe\">\n",
       "  <thead>\n",
       "    <tr style=\"text-align: right;\">\n",
       "      <th></th>\n",
       "      <th>title</th>\n",
       "      <th>altTitle</th>\n",
       "      <th>workID</th>\n",
       "      <th>author</th>\n",
       "      <th>authorID</th>\n",
       "    </tr>\n",
       "  </thead>\n",
       "  <tbody>\n",
       "    <tr>\n",
       "      <th>0</th>\n",
       "      <td>De signis et symptomatibus aegritudinum</td>\n",
       "      <td>NaN</td>\n",
       "      <td>W10655</td>\n",
       "      <td>Gilles, de Corbeil, active 1200</td>\n",
       "      <td>A3919</td>\n",
       "    </tr>\n",
       "    <tr>\n",
       "      <th>1</th>\n",
       "      <td>De coniuratione Porcaria dialogus</td>\n",
       "      <td>NaN</td>\n",
       "      <td>W10654</td>\n",
       "      <td>Godis, Petrus de</td>\n",
       "      <td>A3221</td>\n",
       "    </tr>\n",
       "    <tr>\n",
       "      <th>2</th>\n",
       "      <td>Alda</td>\n",
       "      <td>Aldae Comoedia</td>\n",
       "      <td>W10653</td>\n",
       "      <td>William, of Blois</td>\n",
       "      <td>A4844</td>\n",
       "    </tr>\n",
       "    <tr>\n",
       "      <th>3</th>\n",
       "      <td>De Viris Illustribus</td>\n",
       "      <td>NaN</td>\n",
       "      <td>W10652</td>\n",
       "      <td>Suetonius, approximately 69-approximately 122</td>\n",
       "      <td>A4799</td>\n",
       "    </tr>\n",
       "    <tr>\n",
       "      <th>4</th>\n",
       "      <td>De Philosophis</td>\n",
       "      <td>NaN</td>\n",
       "      <td>W10651</td>\n",
       "      <td>Suetonius, approximately 69-approximately 122</td>\n",
       "      <td>A4799</td>\n",
       "    </tr>\n",
       "  </tbody>\n",
       "</table>\n",
       "</div>"
      ],
      "text/plain": [
       "                                     title        altTitle  workID  \\\n",
       "0  De signis et symptomatibus aegritudinum             NaN  W10655   \n",
       "1        De coniuratione Porcaria dialogus             NaN  W10654   \n",
       "2                                     Alda  Aldae Comoedia  W10653   \n",
       "3                     De Viris Illustribus             NaN  W10652   \n",
       "4                           De Philosophis             NaN  W10651   \n",
       "\n",
       "                                          author authorID  \n",
       "0                Gilles, de Corbeil, active 1200    A3919  \n",
       "1                               Godis, Petrus de    A3221  \n",
       "2                              William, of Blois    A4844  \n",
       "3  Suetonius, approximately 69-approximately 122    A4799  \n",
       "4  Suetonius, approximately 69-approximately 122    A4799  "
      ]
     },
     "execution_count": 23,
     "metadata": {},
     "output_type": "execute_result"
    }
   ],
   "source": [
    "df1.head()"
   ]
  },
  {
   "cell_type": "code",
   "execution_count": 29,
   "metadata": {},
   "outputs": [],
   "source": [
    "# Define a function to filter the dataframe by authorID\n",
    "\n",
    "def author_filter(df, authorID):\n",
    "    filtered = df[df['authorID'] == authorID].copy()\n",
    "    return filtered\n",
    "\n",
    "# Define a function to return all of an author's workID's for \"Opera Omnia\"\n",
    "def opera_omnia(df, authorID):\n",
    "    filtered = df[df['authorID'] == authorID].copy()\n",
    "    op_om = filtered['workID'].to_list()\n",
    "    return op_om"
   ]
  },
  {
   "cell_type": "code",
   "execution_count": 30,
   "metadata": {},
   "outputs": [],
   "source": [
    "vergil = opera_omnia(df1, \"A4830\")"
   ]
  },
  {
   "cell_type": "code",
   "execution_count": 31,
   "metadata": {},
   "outputs": [
    {
     "data": {
      "text/plain": [
       "['W3809', 'W3894', 'W3898']"
      ]
     },
     "execution_count": 31,
     "metadata": {},
     "output_type": "execute_result"
    }
   ],
   "source": [
    "vergil"
   ]
  },
  {
   "cell_type": "code",
   "execution_count": 20,
   "metadata": {},
   "outputs": [
    {
     "data": {
      "text/html": [
       "<div>\n",
       "<style scoped>\n",
       "    .dataframe tbody tr th:only-of-type {\n",
       "        vertical-align: middle;\n",
       "    }\n",
       "\n",
       "    .dataframe tbody tr th {\n",
       "        vertical-align: top;\n",
       "    }\n",
       "\n",
       "    .dataframe thead th {\n",
       "        text-align: right;\n",
       "    }\n",
       "</style>\n",
       "<table border=\"1\" class=\"dataframe\">\n",
       "  <thead>\n",
       "    <tr style=\"text-align: right;\">\n",
       "      <th></th>\n",
       "      <th>Title</th>\n",
       "      <th>Work Name</th>\n",
       "      <th>Alternative Title</th>\n",
       "      <th>Short Title</th>\n",
       "      <th>Author Name Latin</th>\n",
       "      <th>Author Name Native Language</th>\n",
       "      <th>Creator</th>\n",
       "      <th>DLL Identifier (Work)</th>\n",
       "      <th>DLL Identifier (Author)</th>\n",
       "    </tr>\n",
       "  </thead>\n",
       "  <tbody>\n",
       "    <tr>\n",
       "      <th>3811</th>\n",
       "      <td>Aeneis</td>\n",
       "      <td>Aeneis</td>\n",
       "      <td>Aeneid</td>\n",
       "      <td>NaN</td>\n",
       "      <td>Publius Vergilius Maro</td>\n",
       "      <td>NaN</td>\n",
       "      <td>Virgil</td>\n",
       "      <td>W3809</td>\n",
       "      <td>A4830</td>\n",
       "    </tr>\n",
       "    <tr>\n",
       "      <th>3813</th>\n",
       "      <td>Eclogae</td>\n",
       "      <td>Eclogae</td>\n",
       "      <td>Bucolica</td>\n",
       "      <td>NaN</td>\n",
       "      <td>Publius Vergilius Maro</td>\n",
       "      <td>NaN</td>\n",
       "      <td>Virgil</td>\n",
       "      <td>W3894</td>\n",
       "      <td>A4830</td>\n",
       "    </tr>\n",
       "    <tr>\n",
       "      <th>3814</th>\n",
       "      <td>Georgica</td>\n",
       "      <td>Georgica</td>\n",
       "      <td>NaN</td>\n",
       "      <td>NaN</td>\n",
       "      <td>Publius Vergilius Maro</td>\n",
       "      <td>NaN</td>\n",
       "      <td>Virgil</td>\n",
       "      <td>W3898</td>\n",
       "      <td>A4830</td>\n",
       "    </tr>\n",
       "  </tbody>\n",
       "</table>\n",
       "</div>"
      ],
      "text/plain": [
       "         Title Work Name Alternative Title Short Title  \\\n",
       "3811    Aeneis    Aeneis            Aeneid         NaN   \n",
       "3813   Eclogae   Eclogae          Bucolica         NaN   \n",
       "3814  Georgica  Georgica               NaN         NaN   \n",
       "\n",
       "           Author Name Latin Author Name Native Language Creator  \\\n",
       "3811  Publius Vergilius Maro                         NaN  Virgil   \n",
       "3813  Publius Vergilius Maro                         NaN  Virgil   \n",
       "3814  Publius Vergilius Maro                         NaN  Virgil   \n",
       "\n",
       "     DLL Identifier (Work) DLL Identifier (Author)  \n",
       "3811                 W3809                   A4830  \n",
       "3813                 W3894                   A4830  \n",
       "3814                 W3898                   A4830  "
      ]
     },
     "execution_count": 20,
     "metadata": {},
     "output_type": "execute_result"
    }
   ],
   "source": [
    "dlltitles[dlltitles['DLL Identifier (Author)'] == \"A4830\"]"
   ]
  },
  {
   "cell_type": "code",
   "execution_count": null,
   "metadata": {},
   "outputs": [],
   "source": []
  }
 ],
 "metadata": {
  "kernelspec": {
   "display_name": "aiml",
   "language": "python",
   "name": "python3"
  },
  "language_info": {
   "codemirror_mode": {
    "name": "ipython",
    "version": 3
   },
   "file_extension": ".py",
   "mimetype": "text/x-python",
   "name": "python",
   "nbconvert_exporter": "python",
   "pygments_lexer": "ipython3",
   "version": "3.12.2"
  }
 },
 "nbformat": 4,
 "nbformat_minor": 2
}
