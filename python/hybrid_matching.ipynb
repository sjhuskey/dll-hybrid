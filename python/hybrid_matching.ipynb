{
 "cells": [
  {
   "cell_type": "code",
   "execution_count": 1,
   "metadata": {},
   "outputs": [],
   "source": [
    "# Code for loading vector stores, if needed\n",
    "import faiss\n",
    "import pickle\n",
    "\n",
    "author_index = faiss.read_index(\"../author_index.faiss\")\n",
    "title_index = faiss.read_index(\"../title_index.faiss\")\n",
    "\n",
    "with open(\"../author_map.pkl\", \"rb\") as f:\n",
    "    author_map = pickle.load(f)\n",
    "\n",
    "with open(\"../title_map.pkl\", \"rb\") as f:\n",
    "    title_map = pickle.load(f)"
   ]
  },
  {
   "cell_type": "code",
   "execution_count": 3,
   "metadata": {},
   "outputs": [
    {
     "name": "stdout",
     "output_type": "stream",
     "text": [
      "\n",
      "Processing Record: {'author': 'Vergil', 'title': 'Libri Duodecim Aeneidos P. Vergilii Maronis, cum annotationibus'}\n"
     ]
    },
    {
     "ename": "NameError",
     "evalue": "name 'variant_to_authorized' is not defined",
     "output_type": "error",
     "traceback": [
      "\u001b[0;31m---------------------------------------------------------------------------\u001b[0m",
      "\u001b[0;31mNameError\u001b[0m                                 Traceback (most recent call last)",
      "Cell \u001b[0;32mIn[3], line 13\u001b[0m\n\u001b[1;32m     11\u001b[0m \u001b[38;5;28;01mfor\u001b[39;00m record \u001b[38;5;129;01min\u001b[39;00m incoming_metadata:\n\u001b[1;32m     12\u001b[0m     \u001b[38;5;28mprint\u001b[39m(\u001b[38;5;124m\"\u001b[39m\u001b[38;5;130;01m\\n\u001b[39;00m\u001b[38;5;124mProcessing Record:\u001b[39m\u001b[38;5;124m\"\u001b[39m, record)\n\u001b[0;32m---> 13\u001b[0m     result \u001b[38;5;241m=\u001b[39m \u001b[43mmatch_metadata\u001b[49m\u001b[43m(\u001b[49m\u001b[43mrecord\u001b[49m\u001b[43m[\u001b[49m\u001b[38;5;124;43m\"\u001b[39;49m\u001b[38;5;124;43mauthor\u001b[39;49m\u001b[38;5;124;43m\"\u001b[39;49m\u001b[43m]\u001b[49m\u001b[43m,\u001b[49m\u001b[43m \u001b[49m\u001b[43mrecord\u001b[49m\u001b[43m[\u001b[49m\u001b[38;5;124;43m\"\u001b[39;49m\u001b[38;5;124;43mtitle\u001b[39;49m\u001b[38;5;124;43m\"\u001b[39;49m\u001b[43m]\u001b[49m\u001b[43m)\u001b[49m\n\u001b[1;32m     14\u001b[0m     \u001b[38;5;28mprint\u001b[39m(\u001b[38;5;124m\"\u001b[39m\u001b[38;5;124mMatched Result:\u001b[39m\u001b[38;5;124m\"\u001b[39m, result)\n",
      "File \u001b[0;32m~/MyPython/dll-hybrid/python/hybrid_utility.py:66\u001b[0m, in \u001b[0;36mmatch_metadata\u001b[0;34m(input_author, input_title)\u001b[0m\n\u001b[1;32m     64\u001b[0m \u001b[38;5;250m\u001b[39m\u001b[38;5;124;03m\"\"\"Match metadata against canonical records.\"\"\"\u001b[39;00m\n\u001b[1;32m     65\u001b[0m \u001b[38;5;66;03m# Author matching\u001b[39;00m\n\u001b[0;32m---> 66\u001b[0m author_info \u001b[38;5;241m=\u001b[39m \u001b[43mdeterministic_author_match\u001b[49m\u001b[43m(\u001b[49m\u001b[43minput_author\u001b[49m\u001b[43m)\u001b[49m\n\u001b[1;32m     67\u001b[0m \u001b[38;5;28;01mif\u001b[39;00m \u001b[38;5;129;01mnot\u001b[39;00m author_info:\n\u001b[1;32m     68\u001b[0m     author_info \u001b[38;5;241m=\u001b[39m embedding_author_match(input_author)\n",
      "File \u001b[0;32m~/MyPython/dll-hybrid/python/hybrid_utility.py:8\u001b[0m, in \u001b[0;36mdeterministic_author_match\u001b[0;34m(input_author)\u001b[0m\n\u001b[1;32m      6\u001b[0m \u001b[38;5;250m\u001b[39m\u001b[38;5;124;03m\"\"\"Match author using deterministic lookups.\"\"\"\u001b[39;00m\n\u001b[1;32m      7\u001b[0m input_author_cleaned \u001b[38;5;241m=\u001b[39m input_author\u001b[38;5;241m.\u001b[39mlower()\u001b[38;5;241m.\u001b[39mstrip()\n\u001b[0;32m----> 8\u001b[0m author_info \u001b[38;5;241m=\u001b[39m \u001b[43mvariant_to_authorized\u001b[49m\u001b[38;5;241m.\u001b[39mget(input_author_cleaned)\n\u001b[1;32m      9\u001b[0m \u001b[38;5;28;01mif\u001b[39;00m author_info:\n\u001b[1;32m     10\u001b[0m     \u001b[38;5;28mprint\u001b[39m(\u001b[38;5;124mf\u001b[39m\u001b[38;5;124m\"\u001b[39m\u001b[38;5;124mDeterministic author match: \u001b[39m\u001b[38;5;132;01m{\u001b[39;00mauthor_info\u001b[38;5;132;01m}\u001b[39;00m\u001b[38;5;124m\"\u001b[39m)\n",
      "\u001b[0;31mNameError\u001b[0m: name 'variant_to_authorized' is not defined"
     ]
    }
   ],
   "source": []
  },
  {
   "cell_type": "code",
   "execution_count": null,
   "metadata": {},
   "outputs": [],
   "source": []
  },
  {
   "cell_type": "code",
   "execution_count": null,
   "metadata": {},
   "outputs": [],
   "source": []
  }
 ],
 "metadata": {
  "kernelspec": {
   "display_name": "hybrid",
   "language": "python",
   "name": "python3"
  },
  "language_info": {
   "codemirror_mode": {
    "name": "ipython",
    "version": 3
   },
   "file_extension": ".py",
   "mimetype": "text/x-python",
   "name": "python",
   "nbconvert_exporter": "python",
   "pygments_lexer": "ipython3",
   "version": "3.10.15"
  }
 },
 "nbformat": 4,
 "nbformat_minor": 2
}
