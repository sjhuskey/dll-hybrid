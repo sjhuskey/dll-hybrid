{
 "cells": [
  {
   "cell_type": "markdown",
   "metadata": {},
   "source": [
    "# Analysis of Output from Hybrid Approach"
   ]
  },
  {
   "cell_type": "code",
   "execution_count": 1,
   "metadata": {},
   "outputs": [
    {
     "name": "stdout",
     "output_type": "stream",
     "text": [
      "<class 'pandas.core.frame.DataFrame'>\n",
      "RangeIndex: 21971 entries, 0 to 21970\n",
      "Data columns (total 10 columns):\n",
      " #   Column                       Non-Null Count  Dtype  \n",
      "---  ------                       --------------  -----  \n",
      " 0   author                       21971 non-null  object \n",
      " 1   deterministic_author         8982 non-null   object \n",
      " 2   fuzzy_author                 20968 non-null  object \n",
      " 3   fuzzy_author_score           21971 non-null  float64\n",
      " 4   distilbert_author            21971 non-null  object \n",
      " 5   distilbert_author_score      21971 non-null  float64\n",
      " 6   title                        21971 non-null  object \n",
      " 7   matched_title_deterministic  21971 non-null  object \n",
      " 8   matched_title_fuzzy          21971 non-null  object \n",
      " 9   fuzzy_title_score            21971 non-null  float64\n",
      "dtypes: float64(3), object(7)\n",
      "memory usage: 1.7+ MB\n"
     ]
    }
   ],
   "source": [
    "# Import the Pandas library\n",
    "import pandas as pd\n",
    "\n",
    "# Read in the output data\n",
    "df = pd.read_csv('../data/output_df.csv',encoding='utf-8',quotechar='\"')\n",
    "df.info()"
   ]
  },
  {
   "cell_type": "markdown",
   "metadata": {},
   "source": [
    "## First impressions\n",
    "\n",
    "Just looking at the output of the `info()` method, I see that there are 21,971 total rows in the dataframe. Some of the columns do not have data in all of the rows. Specifically, `deterministic_author` and `fuzzy_author` have empty cells. That suggests that the deterministic method is by far the most \"conservative\" approach, and it looks like the fuzzy matching approach is a distant second in that regard."
   ]
  },
  {
   "cell_type": "code",
   "execution_count": 2,
   "metadata": {},
   "outputs": [
    {
     "data": {
      "text/html": [
       "<div>\n",
       "<style scoped>\n",
       "    .dataframe tbody tr th:only-of-type {\n",
       "        vertical-align: middle;\n",
       "    }\n",
       "\n",
       "    .dataframe tbody tr th {\n",
       "        vertical-align: top;\n",
       "    }\n",
       "\n",
       "    .dataframe thead th {\n",
       "        text-align: right;\n",
       "    }\n",
       "</style>\n",
       "<table border=\"1\" class=\"dataframe\">\n",
       "  <thead>\n",
       "    <tr style=\"text-align: right;\">\n",
       "      <th></th>\n",
       "      <th>fuzzy_author_score</th>\n",
       "      <th>distilbert_author_score</th>\n",
       "      <th>fuzzy_title_score</th>\n",
       "    </tr>\n",
       "  </thead>\n",
       "  <tbody>\n",
       "    <tr>\n",
       "      <th>count</th>\n",
       "      <td>21971.000000</td>\n",
       "      <td>21971.000000</td>\n",
       "      <td>21971.000000</td>\n",
       "    </tr>\n",
       "    <tr>\n",
       "      <th>mean</th>\n",
       "      <td>0.954349</td>\n",
       "      <td>0.822853</td>\n",
       "      <td>0.262818</td>\n",
       "    </tr>\n",
       "    <tr>\n",
       "      <th>std</th>\n",
       "      <td>0.208732</td>\n",
       "      <td>0.285260</td>\n",
       "      <td>0.439465</td>\n",
       "    </tr>\n",
       "    <tr>\n",
       "      <th>min</th>\n",
       "      <td>0.000000</td>\n",
       "      <td>0.082294</td>\n",
       "      <td>0.000000</td>\n",
       "    </tr>\n",
       "    <tr>\n",
       "      <th>25%</th>\n",
       "      <td>1.000000</td>\n",
       "      <td>0.689063</td>\n",
       "      <td>0.000000</td>\n",
       "    </tr>\n",
       "    <tr>\n",
       "      <th>50%</th>\n",
       "      <td>1.000000</td>\n",
       "      <td>0.999995</td>\n",
       "      <td>0.000000</td>\n",
       "    </tr>\n",
       "    <tr>\n",
       "      <th>75%</th>\n",
       "      <td>1.000000</td>\n",
       "      <td>0.999999</td>\n",
       "      <td>1.000000</td>\n",
       "    </tr>\n",
       "    <tr>\n",
       "      <th>max</th>\n",
       "      <td>1.000000</td>\n",
       "      <td>1.000000</td>\n",
       "      <td>1.000000</td>\n",
       "    </tr>\n",
       "  </tbody>\n",
       "</table>\n",
       "</div>"
      ],
      "text/plain": [
       "       fuzzy_author_score  distilbert_author_score  fuzzy_title_score\n",
       "count        21971.000000             21971.000000       21971.000000\n",
       "mean             0.954349                 0.822853           0.262818\n",
       "std              0.208732                 0.285260           0.439465\n",
       "min              0.000000                 0.082294           0.000000\n",
       "25%              1.000000                 0.689063           0.000000\n",
       "50%              1.000000                 0.999995           0.000000\n",
       "75%              1.000000                 0.999999           1.000000\n",
       "max              1.000000                 1.000000           1.000000"
      ]
     },
     "execution_count": 2,
     "metadata": {},
     "output_type": "execute_result"
    }
   ],
   "source": [
    "df.describe()"
   ]
  },
  {
   "cell_type": "markdown",
   "metadata": {},
   "source": [
    "The `describe()` method only covers two author matching methods, but it tells its own story. The fuzzy matching method appears to be slightly more liberal, with a 86.04% matching average, while the DistilBERT model had an 82.29% average. More revealing is the quartile output, with 25% of the records getting an 85.5% match from the fuzzy method, but the DistilBERT model returned 68.9% at that level. On the other hand, at the 50% mark and above, the DistilBERT model appears to be slightly more confident."
   ]
  },
  {
   "cell_type": "code",
   "execution_count": 3,
   "metadata": {},
   "outputs": [
    {
     "data": {
      "text/html": [
       "<div>\n",
       "<style scoped>\n",
       "    .dataframe tbody tr th:only-of-type {\n",
       "        vertical-align: middle;\n",
       "    }\n",
       "\n",
       "    .dataframe tbody tr th {\n",
       "        vertical-align: top;\n",
       "    }\n",
       "\n",
       "    .dataframe thead th {\n",
       "        text-align: right;\n",
       "    }\n",
       "</style>\n",
       "<table border=\"1\" class=\"dataframe\">\n",
       "  <thead>\n",
       "    <tr style=\"text-align: right;\">\n",
       "      <th></th>\n",
       "      <th>author</th>\n",
       "      <th>deterministic_author</th>\n",
       "      <th>fuzzy_author</th>\n",
       "      <th>fuzzy_author_score</th>\n",
       "      <th>distilbert_author</th>\n",
       "      <th>distilbert_author_score</th>\n",
       "      <th>title</th>\n",
       "      <th>matched_title_deterministic</th>\n",
       "      <th>matched_title_fuzzy</th>\n",
       "      <th>fuzzy_title_score</th>\n",
       "    </tr>\n",
       "  </thead>\n",
       "  <tbody>\n",
       "    <tr>\n",
       "      <th>0</th>\n",
       "      <td>Du Creux, François, 1596?-1666.</td>\n",
       "      <td>NaN</td>\n",
       "      <td>{'authorized_name': 'préchac, françois', 'au...</td>\n",
       "      <td>1.0</td>\n",
       "      <td>{'authorized_name': 'cruz, luís da, 1543-1604...</td>\n",
       "      <td>0.467436</td>\n",
       "      <td>Historiæ canadensis, seu Novæ-Franciæ libri de...</td>\n",
       "      <td>Unknown</td>\n",
       "      <td>Unknown</td>\n",
       "      <td>0.0</td>\n",
       "    </tr>\n",
       "    <tr>\n",
       "      <th>1</th>\n",
       "      <td>Meyer, Ernst H. F. 1791-1858.</td>\n",
       "      <td>NaN</td>\n",
       "      <td>{'authorized_name': 'sextius niger', 'author_i...</td>\n",
       "      <td>1.0</td>\n",
       "      <td>{'authorized_name': 'meyer, wilhelm, 1845-1917...</td>\n",
       "      <td>0.999939</td>\n",
       "      <td>Ernesti Meyer de plantis labradoricis libri tres.</td>\n",
       "      <td>Unknown</td>\n",
       "      <td>Unknown</td>\n",
       "      <td>0.0</td>\n",
       "    </tr>\n",
       "    <tr>\n",
       "      <th>2</th>\n",
       "      <td>Laet, Joannes de, 1593-1649.</td>\n",
       "      <td>NaN</td>\n",
       "      <td>{'authorized_name': 'herryson, joannes', 'auth...</td>\n",
       "      <td>1.0</td>\n",
       "      <td>{'authorized_name': 'larroumet, gustave', 'aut...</td>\n",
       "      <td>0.494394</td>\n",
       "      <td>Novus orbis, seu Descriptionis Indiae Occident...</td>\n",
       "      <td>Unknown</td>\n",
       "      <td>Unknown</td>\n",
       "      <td>0.0</td>\n",
       "    </tr>\n",
       "    <tr>\n",
       "      <th>3</th>\n",
       "      <td>Caesar, Julius</td>\n",
       "      <td>NaN</td>\n",
       "      <td>{'authorized_name': 'domitian, emperor of rome...</td>\n",
       "      <td>1.0</td>\n",
       "      <td>{'authorized_name': 'caesar, julius', 'author_...</td>\n",
       "      <td>0.999999</td>\n",
       "      <td>C. Julii Cæsaris commentariorum De Bello Galli...</td>\n",
       "      <td>Unknown</td>\n",
       "      <td>Unknown</td>\n",
       "      <td>0.0</td>\n",
       "    </tr>\n",
       "    <tr>\n",
       "      <th>4</th>\n",
       "      <td>Unknown</td>\n",
       "      <td>NaN</td>\n",
       "      <td>NaN</td>\n",
       "      <td>0.0</td>\n",
       "      <td>{'authorized_name': 'stephanus abbas 4. or 6th...</td>\n",
       "      <td>0.177454</td>\n",
       "      <td>Collectanea latina seu ecclesiasticæ antiquita...</td>\n",
       "      <td>Unknown</td>\n",
       "      <td>Unknown</td>\n",
       "      <td>0.0</td>\n",
       "    </tr>\n",
       "  </tbody>\n",
       "</table>\n",
       "</div>"
      ],
      "text/plain": [
       "                            author deterministic_author  \\\n",
       "0  Du Creux, François, 1596?-1666.                  NaN   \n",
       "1    Meyer, Ernst H. F. 1791-1858.                  NaN   \n",
       "2     Laet, Joannes de, 1593-1649.                  NaN   \n",
       "3                   Caesar, Julius                  NaN   \n",
       "4                          Unknown                  NaN   \n",
       "\n",
       "                                        fuzzy_author  fuzzy_author_score  \\\n",
       "0  {'authorized_name': 'préchac, françois', 'au...                 1.0   \n",
       "1  {'authorized_name': 'sextius niger', 'author_i...                 1.0   \n",
       "2  {'authorized_name': 'herryson, joannes', 'auth...                 1.0   \n",
       "3  {'authorized_name': 'domitian, emperor of rome...                 1.0   \n",
       "4                                                NaN                 0.0   \n",
       "\n",
       "                                   distilbert_author  distilbert_author_score  \\\n",
       "0  {'authorized_name': 'cruz, luís da, 1543-1604...                 0.467436   \n",
       "1  {'authorized_name': 'meyer, wilhelm, 1845-1917...                 0.999939   \n",
       "2  {'authorized_name': 'larroumet, gustave', 'aut...                 0.494394   \n",
       "3  {'authorized_name': 'caesar, julius', 'author_...                 0.999999   \n",
       "4  {'authorized_name': 'stephanus abbas 4. or 6th...                 0.177454   \n",
       "\n",
       "                                               title  \\\n",
       "0  Historiæ canadensis, seu Novæ-Franciæ libri de...   \n",
       "1  Ernesti Meyer de plantis labradoricis libri tres.   \n",
       "2  Novus orbis, seu Descriptionis Indiae Occident...   \n",
       "3  C. Julii Cæsaris commentariorum De Bello Galli...   \n",
       "4  Collectanea latina seu ecclesiasticæ antiquita...   \n",
       "\n",
       "  matched_title_deterministic matched_title_fuzzy  fuzzy_title_score  \n",
       "0                     Unknown             Unknown                0.0  \n",
       "1                     Unknown             Unknown                0.0  \n",
       "2                     Unknown             Unknown                0.0  \n",
       "3                     Unknown             Unknown                0.0  \n",
       "4                     Unknown             Unknown                0.0  "
      ]
     },
     "execution_count": 3,
     "metadata": {},
     "output_type": "execute_result"
    }
   ],
   "source": [
    "df.head()"
   ]
  },
  {
   "cell_type": "code",
   "execution_count": 4,
   "metadata": {},
   "outputs": [
    {
     "data": {
      "text/plain": [
       "5556"
      ]
     },
     "execution_count": 4,
     "metadata": {},
     "output_type": "execute_result"
    }
   ],
   "source": [
    "# Get the number of unique values in the `author` column\n",
    "df['author'].nunique()"
   ]
  },
  {
   "cell_type": "code",
   "execution_count": 33,
   "metadata": {},
   "outputs": [
    {
     "data": {
      "text/plain": [
       "fuzzy_author_score\n",
       "1.0    20968\n",
       "0.0     1003\n",
       "Name: count, dtype: int64"
      ]
     },
     "execution_count": 33,
     "metadata": {},
     "output_type": "execute_result"
    }
   ],
   "source": [
    "df['fuzzy_author_score'].value_counts()"
   ]
  },
  {
   "cell_type": "markdown",
   "metadata": {},
   "source": [
    "## Deterministic Author Matching\n",
    "\n",
    "I want to see where this method reported a match."
   ]
  },
  {
   "cell_type": "code",
   "execution_count": 5,
   "metadata": {},
   "outputs": [
    {
     "name": "stdout",
     "output_type": "stream",
     "text": [
      "<class 'pandas.core.frame.DataFrame'>\n",
      "Index: 8982 entries, 6 to 21968\n",
      "Data columns (total 2 columns):\n",
      " #   Column                Non-Null Count  Dtype \n",
      "---  ------                --------------  ----- \n",
      " 0   author                8982 non-null   object\n",
      " 1   deterministic_author  8982 non-null   object\n",
      "dtypes: object(2)\n",
      "memory usage: 210.5+ KB\n"
     ]
    }
   ],
   "source": [
    "# Make a dataframe of just the author and deterministic author columns\n",
    "deterministic = df[['author','deterministic_author']]\n",
    "# Filter out the NA values\n",
    "deterministic = deterministic[deterministic['deterministic_author'].notna()]\n",
    "deterministic.info()"
   ]
  },
  {
   "cell_type": "code",
   "execution_count": 6,
   "metadata": {},
   "outputs": [
    {
     "name": "stdout",
     "output_type": "stream",
     "text": [
      "There are 444 unique authors in the deterministic dataframe.\n"
     ]
    }
   ],
   "source": [
    "# Count the number of unique values in the deterministic_author column\n",
    "print(f\"There are {deterministic['deterministic_author'].nunique()} unique authors in the deterministic dataframe.\")"
   ]
  },
  {
   "cell_type": "markdown",
   "metadata": {},
   "source": [
    "There are 444 unique values in the `deterministic_author` column. That's 12 more than I found in `analysis.ipynb`.\n",
    "\n",
    "I'm going to make a CSV file so that I can investigate the matches more easily. I'll sort the `deterministic` dataframe by the `author` column first, then save the sorted dataframe as a CSV file."
   ]
  },
  {
   "cell_type": "code",
   "execution_count": 7,
   "metadata": {},
   "outputs": [],
   "source": [
    "sorted_deterministic = deterministic.sort_values(axis='index',by='author')\n",
    "sorted_deterministic_deduped = sorted_deterministic.drop_duplicates(subset='author')"
   ]
  },
  {
   "cell_type": "code",
   "execution_count": 8,
   "metadata": {},
   "outputs": [],
   "source": [
    "import csv\n",
    "sorted_deterministic_deduped.to_csv('../data/deterministic_author.csv',index=False,quoting=csv.QUOTE_ALL)"
   ]
  },
  {
   "cell_type": "markdown",
   "metadata": {},
   "source": [
    "As expected, every match achieved by the deterministic method was 100% accurate. On the other hand, it matched only 432 of the 6,018 unique values in the `author` column."
   ]
  },
  {
   "cell_type": "markdown",
   "metadata": {},
   "source": [
    "## Fuzzy Author Matching"
   ]
  },
  {
   "cell_type": "code",
   "execution_count": 9,
   "metadata": {},
   "outputs": [
    {
     "name": "stdout",
     "output_type": "stream",
     "text": [
      "<class 'pandas.core.frame.DataFrame'>\n",
      "Index: 20968 entries, 0 to 21969\n",
      "Data columns (total 3 columns):\n",
      " #   Column              Non-Null Count  Dtype  \n",
      "---  ------              --------------  -----  \n",
      " 0   author              20968 non-null  object \n",
      " 1   fuzzy_author        20968 non-null  object \n",
      " 2   fuzzy_author_score  20968 non-null  float64\n",
      "dtypes: float64(1), object(2)\n",
      "memory usage: 655.2+ KB\n"
     ]
    }
   ],
   "source": [
    "# Make a dataframe of the fuzzy matching columns and the author column\n",
    "fuzzy = df[['author','fuzzy_author','fuzzy_author_score']]\n",
    "# Eliminate any NaN cells\n",
    "fuzzy = fuzzy[fuzzy['fuzzy_author'].notna()]\n",
    "\n",
    "fuzzy.info()"
   ]
  },
  {
   "cell_type": "code",
   "execution_count": 10,
   "metadata": {},
   "outputs": [
    {
     "data": {
      "text/plain": [
       "511"
      ]
     },
     "execution_count": 10,
     "metadata": {},
     "output_type": "execute_result"
    }
   ],
   "source": [
    "# Count the number of unique values in the fuzzy_author column\n",
    "fuzzy['fuzzy_author'].nunique()"
   ]
  },
  {
   "cell_type": "markdown",
   "metadata": {},
   "source": [
    "The fuzzy matching method returned 511 unique values (down from 1,081 in `analysis.ipynb`), compared to the 6,018 unique values in the `author` column.\n",
    "\n",
    "Let's see the rows where there isn't a match."
   ]
  },
  {
   "cell_type": "code",
   "execution_count": 11,
   "metadata": {},
   "outputs": [
    {
     "data": {
      "text/plain": [
       "26"
      ]
     },
     "metadata": {},
     "output_type": "display_data"
    },
    {
     "data": {
      "text/plain": [
       "{'Anhalt, Ottocar.',\n",
       " 'Barbosa, Enmanuele.',\n",
       " 'Capecelatro, Ettore.',\n",
       " 'Coelho, Jorge',\n",
       " 'Dodoens, Rembert',\n",
       " 'Fagundes, Estevao, 1577-1645.',\n",
       " 'Favazza, Salvator.',\n",
       " 'Fedro.',\n",
       " 'Flemyng, Malcolm.',\n",
       " 'Foës, Anuce, 1562-1595.',\n",
       " 'Gasquy, Armand.',\n",
       " 'Gratama, Menno Schaaff.',\n",
       " 'Heuter, Pontus.',\n",
       " 'Hostus, Mathaeus.',\n",
       " 'Hult, Joh. Ferd.',\n",
       " 'Kada, Carolomann.',\n",
       " 'Keck.',\n",
       " 'Rhode, Feodor.',\n",
       " 'Robles Salcedo, Blas.',\n",
       " 'Robles Salzedo, Blas',\n",
       " 'Storr, Rayner.',\n",
       " 'Sussanneau, Hubert, 1512-1550.',\n",
       " 'Tapper, Ruard.',\n",
       " 'Unknown',\n",
       " 'Vázquez Menchaca, Fernando, 1512-1569.',\n",
       " 'Wolbero.'}"
      ]
     },
     "execution_count": 11,
     "metadata": {},
     "output_type": "execute_result"
    }
   ],
   "source": [
    "unmatched_fuzzy = df[df['fuzzy_author'].isna()]\n",
    "# Show the number of unique author values in the unmatched_fuzzy dataframe\n",
    "display(unmatched_fuzzy['author'].nunique())\n",
    "# Display the list of unmatched author names\n",
    "authors_list = unmatched_fuzzy['author'].to_list()\n",
    "set(authors_list)\n"
   ]
  },
  {
   "cell_type": "markdown",
   "metadata": {},
   "source": [
    "The list does not contain any Classical authors, and the authors it does include do not look familiar to me, so it is likely that they simply do not yet have records in the DLL's catalog. I'll save them and use VIAF to make authority records for them at a later date."
   ]
  },
  {
   "cell_type": "code",
   "execution_count": 12,
   "metadata": {},
   "outputs": [],
   "source": [
    "unmatched_authors_set = set(authors_list)\n",
    "with open('../output/unmatched_authors_fuzzy.txt', 'w') as file:\n",
    "    for author in unmatched_authors_set:\n",
    "        file.write(f\"{author}\\n\")"
   ]
  },
  {
   "cell_type": "code",
   "execution_count": 13,
   "metadata": {},
   "outputs": [
    {
     "data": {
      "text/plain": [
       "1003"
      ]
     },
     "execution_count": 13,
     "metadata": {},
     "output_type": "execute_result"
    }
   ],
   "source": [
    "len(authors_list)"
   ]
  },
  {
   "cell_type": "markdown",
   "metadata": {},
   "source": [
    "**SAM: Use the authors_list to remove unlikely matches from the distilbert results. Remove the deterministically matched results, too.**"
   ]
  },
  {
   "cell_type": "markdown",
   "metadata": {},
   "source": [
    "## Distilbert Matching\n",
    "\n",
    "Let's see how the distilbert author-matching model performed."
   ]
  },
  {
   "cell_type": "code",
   "execution_count": 14,
   "metadata": {},
   "outputs": [
    {
     "name": "stdout",
     "output_type": "stream",
     "text": [
      "<class 'pandas.core.frame.DataFrame'>\n",
      "RangeIndex: 21971 entries, 0 to 21970\n",
      "Data columns (total 3 columns):\n",
      " #   Column                   Non-Null Count  Dtype  \n",
      "---  ------                   --------------  -----  \n",
      " 0   author                   21971 non-null  object \n",
      " 1   distilbert_author        21971 non-null  object \n",
      " 2   distilbert_author_score  21971 non-null  float64\n",
      "dtypes: float64(1), object(2)\n",
      "memory usage: 515.1+ KB\n",
      "There are 1891 unique values in the distilbert_model frame.\n",
      "That is 1380 more than in the fuzzy frame.\n"
     ]
    }
   ],
   "source": [
    "distilbert_model = df[['author','distilbert_author','distilbert_author_score']]\n",
    "# Eliminate any NaN cells\n",
    "distilbert_model = distilbert_model[distilbert_model['distilbert_author'].notna()]\n",
    "\n",
    "distilbert_model.info()\n",
    "\n",
    "# Count the number of unique values in the fuzzy_author column\n",
    "print(f\"There are {distilbert_model['distilbert_author'].nunique()} unique values in the distilbert_model frame.\")\n",
    "print(f\"That is {distilbert_model['distilbert_author'].nunique()-fuzzy['fuzzy_author'].nunique()} more than in the fuzzy frame.\")"
   ]
  },
  {
   "cell_type": "code",
   "execution_count": 30,
   "metadata": {},
   "outputs": [
    {
     "name": "stdout",
     "output_type": "stream",
     "text": [
      "0 authors were unmatched by the DistilBERT model.\n"
     ]
    },
    {
     "data": {
      "text/plain": [
       "set()"
      ]
     },
     "execution_count": 30,
     "metadata": {},
     "output_type": "execute_result"
    }
   ],
   "source": [
    "unmatched_distilbert = df[df['distilbert_author'].isna()]\n",
    "# Show the number of unique author values in the unmatched_distilbert dataframe\n",
    "print(f\"{unmatched_distilbert['author'].nunique()} authors were unmatched by the DistilBERT model.\")\n",
    "# Display the list of unmatched author names\n",
    "authors_list = unmatched_distilbert['author'].to_list()\n",
    "set(authors_list)"
   ]
  },
  {
   "cell_type": "markdown",
   "metadata": {},
   "source": [
    "The DistilBERT model identified a match for all authors it encountered, which almost certainly means that there are many incorrect matches.\n",
    "\n",
    "I want to look at the metrics for the DistilBERT and Fuzzy Matching methods. I'll make a set of ranges from 75% to 100% confidence and count up the numbers in each range per method."
   ]
  },
  {
   "cell_type": "code",
   "execution_count": 37,
   "metadata": {},
   "outputs": [
    {
     "data": {
      "image/png": "[encoded data removed]",
      "text/plain": [
       "<Figure size 1000x600 with 1 Axes>"
      ]
     },
     "metadata": {},
     "output_type": "display_data"
    }
   ],
   "source": [
    "# Visualize the differences\n",
    "import matplotlib.pyplot as plt\n",
    "import numpy as np  # Ensure this import is present for array operations\n",
    "\n",
    "# Assuming 'df' is your original DataFrame with the metrics\n",
    "bins = [54, 59, 64, 69, 74, 79, 84, 89, 94, 100]\n",
    "labels = ['55-59%', '60-64%', '65-69%', '70-74%', '75-79%', '80-84%', '85-89%', '90-94%', '95-100%']\n",
    "\n",
    "metrics = df.copy()\n",
    "metrics['distilbert_author_score'] = (metrics['distilbert_author_score'] * 100).astype(int)\n",
    "metrics['fuzzy_author_score'] = (metrics['fuzzy_author_score'] * 100).astype(int)\n",
    "\n",
    "# Initialize an empty DataFrame with labels as index\n",
    "comparison_df = pd.DataFrame(index=labels)\n",
    "\n",
    "# Apply pd.cut and calculate value counts, then add to comparison_df\n",
    "for metric in ['fuzzy_author_score', 'distilbert_author_score']:\n",
    "    metrics[f'{metric}_range'] = pd.cut(metrics[metric], bins=bins, labels=labels, right=False)\n",
    "    comparison_df[metric] = metrics[f'{metric}_range'].value_counts().reindex(labels, fill_value=0)\n",
    "\n",
    "# Plotting\n",
    "fig, ax = plt.subplots(figsize=(10, 6))\n",
    "bar_width = 0.35\n",
    "index = np.arange(len(labels))\n",
    "\n",
    "bar1 = plt.bar(index, comparison_df['fuzzy_author_score'], bar_width, label='Fuzzy Author Score', color='blue')\n",
    "bar2 = plt.bar(index + bar_width, comparison_df['distilbert_author_score'], bar_width, label='DistilBERT Author Score', color='red')\n",
    "\n",
    "plt.xlabel('Score Ranges')\n",
    "plt.ylabel('Counts')\n",
    "plt.title('Comparison of Score Distributions')\n",
    "plt.xticks(index + bar_width / 2, labels)\n",
    "plt.legend()\n",
    "\n",
    "plt.tight_layout()\n",
    "plt.show()"
   ]
  },
  {
   "cell_type": "markdown",
   "metadata": {},
   "source": [
    "That's interesting! The fuzzy matching cuts out at 85%, but DistilBERT keeps going, albeit with lower numbers in those ranks. The DistilBERT model also has much higher numbers at the highest confidence rating. That said, DistilBERT is still putting > 300 items into each rank below 90%:"
   ]
  },
  {
   "cell_type": "code",
   "execution_count": 38,
   "metadata": {},
   "outputs": [
    {
     "name": "stdout",
     "output_type": "stream",
     "text": [
      "Counts for fuzzy_author_score:\n",
      "fuzzy_author_score_range\n",
      "55-59%     0\n",
      "60-64%     0\n",
      "65-69%     0\n",
      "70-74%     0\n",
      "75-79%     0\n",
      "80-84%     0\n",
      "85-89%     0\n",
      "90-94%     0\n",
      "95-100%    0\n",
      "Name: count, dtype: int64\n",
      "\n",
      "\n",
      "Counts for distilbert_author_score:\n",
      "distilbert_author_score_range\n",
      "55-59%       357\n",
      "60-64%       394\n",
      "65-69%       334\n",
      "70-74%       302\n",
      "75-79%       332\n",
      "80-84%       366\n",
      "85-89%       373\n",
      "90-94%       588\n",
      "95-100%    13907\n",
      "Name: count, dtype: int64\n",
      "\n",
      "\n"
     ]
    }
   ],
   "source": [
    "# Applying pd.cut and counting values for each metric\n",
    "for metric in ['fuzzy_author_score', 'distilbert_author_score']:\n",
    "    metrics[f'{metric}_range'] = pd.cut(metrics[metric], bins=bins, labels=labels, right=False)\n",
    "    print(f\"Counts for {metric}:\")\n",
    "    print(metrics[f'{metric}_range'].value_counts().sort_index())\n",
    "    print(\"\\n\")"
   ]
  },
  {
   "cell_type": "code",
   "execution_count": 36,
   "metadata": {},
   "outputs": [
    {
     "data": {
      "text/html": [
       "<div>\n",
       "<style scoped>\n",
       "    .dataframe tbody tr th:only-of-type {\n",
       "        vertical-align: middle;\n",
       "    }\n",
       "\n",
       "    .dataframe tbody tr th {\n",
       "        vertical-align: top;\n",
       "    }\n",
       "\n",
       "    .dataframe thead th {\n",
       "        text-align: right;\n",
       "    }\n",
       "</style>\n",
       "<table border=\"1\" class=\"dataframe\">\n",
       "  <thead>\n",
       "    <tr style=\"text-align: right;\">\n",
       "      <th></th>\n",
       "      <th>author</th>\n",
       "      <th>deterministic_author</th>\n",
       "      <th>fuzzy_author</th>\n",
       "      <th>fuzzy_author_score</th>\n",
       "      <th>distilbert_author</th>\n",
       "      <th>distilbert_author_score</th>\n",
       "      <th>title</th>\n",
       "      <th>matched_title_deterministic</th>\n",
       "      <th>matched_title_fuzzy</th>\n",
       "      <th>fuzzy_title_score</th>\n",
       "      <th>fuzzy_author_score_range</th>\n",
       "      <th>distilbert_author_score_range</th>\n",
       "    </tr>\n",
       "  </thead>\n",
       "  <tbody>\n",
       "    <tr>\n",
       "      <th>0</th>\n",
       "      <td>Du Creux, François, 1596?-1666.</td>\n",
       "      <td>NaN</td>\n",
       "      <td>{'authorized_name': 'préchac, françois', 'au...</td>\n",
       "      <td>100</td>\n",
       "      <td>{'authorized_name': 'cruz, luís da, 1543-1604...</td>\n",
       "      <td>46</td>\n",
       "      <td>Historiæ canadensis, seu Novæ-Franciæ libri de...</td>\n",
       "      <td>Unknown</td>\n",
       "      <td>Unknown</td>\n",
       "      <td>0.0</td>\n",
       "      <td>NaN</td>\n",
       "      <td>NaN</td>\n",
       "    </tr>\n",
       "    <tr>\n",
       "      <th>1</th>\n",
       "      <td>Meyer, Ernst H. F. 1791-1858.</td>\n",
       "      <td>NaN</td>\n",
       "      <td>{'authorized_name': 'sextius niger', 'author_i...</td>\n",
       "      <td>100</td>\n",
       "      <td>{'authorized_name': 'meyer, wilhelm, 1845-1917...</td>\n",
       "      <td>99</td>\n",
       "      <td>Ernesti Meyer de plantis labradoricis libri tres.</td>\n",
       "      <td>Unknown</td>\n",
       "      <td>Unknown</td>\n",
       "      <td>0.0</td>\n",
       "      <td>NaN</td>\n",
       "      <td>95-100%</td>\n",
       "    </tr>\n",
       "    <tr>\n",
       "      <th>2</th>\n",
       "      <td>Laet, Joannes de, 1593-1649.</td>\n",
       "      <td>NaN</td>\n",
       "      <td>{'authorized_name': 'herryson, joannes', 'auth...</td>\n",
       "      <td>100</td>\n",
       "      <td>{'authorized_name': 'larroumet, gustave', 'aut...</td>\n",
       "      <td>49</td>\n",
       "      <td>Novus orbis, seu Descriptionis Indiae Occident...</td>\n",
       "      <td>Unknown</td>\n",
       "      <td>Unknown</td>\n",
       "      <td>0.0</td>\n",
       "      <td>NaN</td>\n",
       "      <td>NaN</td>\n",
       "    </tr>\n",
       "    <tr>\n",
       "      <th>3</th>\n",
       "      <td>Caesar, Julius</td>\n",
       "      <td>NaN</td>\n",
       "      <td>{'authorized_name': 'domitian, emperor of rome...</td>\n",
       "      <td>100</td>\n",
       "      <td>{'authorized_name': 'caesar, julius', 'author_...</td>\n",
       "      <td>99</td>\n",
       "      <td>C. Julii Cæsaris commentariorum De Bello Galli...</td>\n",
       "      <td>Unknown</td>\n",
       "      <td>Unknown</td>\n",
       "      <td>0.0</td>\n",
       "      <td>NaN</td>\n",
       "      <td>95-100%</td>\n",
       "    </tr>\n",
       "    <tr>\n",
       "      <th>4</th>\n",
       "      <td>Unknown</td>\n",
       "      <td>NaN</td>\n",
       "      <td>NaN</td>\n",
       "      <td>0</td>\n",
       "      <td>{'authorized_name': 'stephanus abbas 4. or 6th...</td>\n",
       "      <td>17</td>\n",
       "      <td>Collectanea latina seu ecclesiasticæ antiquita...</td>\n",
       "      <td>Unknown</td>\n",
       "      <td>Unknown</td>\n",
       "      <td>0.0</td>\n",
       "      <td>NaN</td>\n",
       "      <td>NaN</td>\n",
       "    </tr>\n",
       "    <tr>\n",
       "      <th>...</th>\n",
       "      <td>...</td>\n",
       "      <td>...</td>\n",
       "      <td>...</td>\n",
       "      <td>...</td>\n",
       "      <td>...</td>\n",
       "      <td>...</td>\n",
       "      <td>...</td>\n",
       "      <td>...</td>\n",
       "      <td>...</td>\n",
       "      <td>...</td>\n",
       "      <td>...</td>\n",
       "      <td>...</td>\n",
       "    </tr>\n",
       "    <tr>\n",
       "      <th>21966</th>\n",
       "      <td>Neumann, Karl Johannes, 1857-</td>\n",
       "      <td>NaN</td>\n",
       "      <td>{'authorized_name': 'stratford, john, -1348', ...</td>\n",
       "      <td>100</td>\n",
       "      <td>{'authorized_name': 'schmidt, paul wilhelm, 18...</td>\n",
       "      <td>45</td>\n",
       "      <td>Prolegomena in Juliani imperatoris libros quib...</td>\n",
       "      <td>Unknown</td>\n",
       "      <td>Unknown</td>\n",
       "      <td>0.0</td>\n",
       "      <td>NaN</td>\n",
       "      <td>NaN</td>\n",
       "    </tr>\n",
       "    <tr>\n",
       "      <th>21967</th>\n",
       "      <td>Unknown</td>\n",
       "      <td>NaN</td>\n",
       "      <td>NaN</td>\n",
       "      <td>0</td>\n",
       "      <td>{'authorized_name': 'stephanus abbas 4. or 6th...</td>\n",
       "      <td>17</td>\n",
       "      <td>Cvlex carmen Vergilio ascriptvm; recensvit et ...</td>\n",
       "      <td>Unknown</td>\n",
       "      <td>Unknown</td>\n",
       "      <td>0.0</td>\n",
       "      <td>NaN</td>\n",
       "      <td>NaN</td>\n",
       "    </tr>\n",
       "    <tr>\n",
       "      <th>21968</th>\n",
       "      <td>Persius.</td>\n",
       "      <td>{'authorized_name': 'persius', 'author_id': 'A...</td>\n",
       "      <td>{'authorized_name': 'persius', 'author_id': 'A...</td>\n",
       "      <td>100</td>\n",
       "      <td>{'authorized_name': 'persius', 'author_id': 'A...</td>\n",
       "      <td>100</td>\n",
       "      <td>A. Persii flacci Satirarum liber Ex recensione...</td>\n",
       "      <td>Unknown</td>\n",
       "      <td>Unknown</td>\n",
       "      <td>0.0</td>\n",
       "      <td>NaN</td>\n",
       "      <td>NaN</td>\n",
       "    </tr>\n",
       "    <tr>\n",
       "      <th>21969</th>\n",
       "      <td>Jaʻfarī, Ṣāliḥ ibn al-Ḥusayn, d. 1269 or ...</td>\n",
       "      <td>NaN</td>\n",
       "      <td>{'authorized_name': 'anaritius, -approximately...</td>\n",
       "      <td>100</td>\n",
       "      <td>{'authorized_name': 'josephus, flavius', 'auth...</td>\n",
       "      <td>52</td>\n",
       "      <td>Liber decem quaestionum contra Christianos auc...</td>\n",
       "      <td>Unknown</td>\n",
       "      <td>Unknown</td>\n",
       "      <td>0.0</td>\n",
       "      <td>NaN</td>\n",
       "      <td>NaN</td>\n",
       "    </tr>\n",
       "    <tr>\n",
       "      <th>21970</th>\n",
       "      <td>Unknown</td>\n",
       "      <td>NaN</td>\n",
       "      <td>NaN</td>\n",
       "      <td>0</td>\n",
       "      <td>{'authorized_name': 'stephanus abbas 4. or 6th...</td>\n",
       "      <td>17</td>\n",
       "      <td>Imperatoris Iustiniani Institutionum libri qua...</td>\n",
       "      <td>Unknown</td>\n",
       "      <td>Unknown</td>\n",
       "      <td>0.0</td>\n",
       "      <td>NaN</td>\n",
       "      <td>NaN</td>\n",
       "    </tr>\n",
       "  </tbody>\n",
       "</table>\n",
       "<p>21971 rows × 12 columns</p>\n",
       "</div>"
      ],
      "text/plain": [
       "                                                  author  \\\n",
       "0                        Du Creux, François, 1596?-1666.   \n",
       "1                          Meyer, Ernst H. F. 1791-1858.   \n",
       "2                           Laet, Joannes de, 1593-1649.   \n",
       "3                                         Caesar, Julius   \n",
       "4                                                Unknown   \n",
       "...                                                  ...   \n",
       "21966                      Neumann, Karl Johannes, 1857-   \n",
       "21967                                            Unknown   \n",
       "21968                                           Persius.   \n",
       "21969  Jaʻfarī, Ṣāliḥ ibn al-Ḥusayn, d. 1269 or ...   \n",
       "21970                                            Unknown   \n",
       "\n",
       "                                    deterministic_author  \\\n",
       "0                                                    NaN   \n",
       "1                                                    NaN   \n",
       "2                                                    NaN   \n",
       "3                                                    NaN   \n",
       "4                                                    NaN   \n",
       "...                                                  ...   \n",
       "21966                                                NaN   \n",
       "21967                                                NaN   \n",
       "21968  {'authorized_name': 'persius', 'author_id': 'A...   \n",
       "21969                                                NaN   \n",
       "21970                                                NaN   \n",
       "\n",
       "                                            fuzzy_author  fuzzy_author_score  \\\n",
       "0      {'authorized_name': 'préchac, françois', 'au...                 100   \n",
       "1      {'authorized_name': 'sextius niger', 'author_i...                 100   \n",
       "2      {'authorized_name': 'herryson, joannes', 'auth...                 100   \n",
       "3      {'authorized_name': 'domitian, emperor of rome...                 100   \n",
       "4                                                    NaN                   0   \n",
       "...                                                  ...                 ...   \n",
       "21966  {'authorized_name': 'stratford, john, -1348', ...                 100   \n",
       "21967                                                NaN                   0   \n",
       "21968  {'authorized_name': 'persius', 'author_id': 'A...                 100   \n",
       "21969  {'authorized_name': 'anaritius, -approximately...                 100   \n",
       "21970                                                NaN                   0   \n",
       "\n",
       "                                       distilbert_author  \\\n",
       "0      {'authorized_name': 'cruz, luís da, 1543-1604...   \n",
       "1      {'authorized_name': 'meyer, wilhelm, 1845-1917...   \n",
       "2      {'authorized_name': 'larroumet, gustave', 'aut...   \n",
       "3      {'authorized_name': 'caesar, julius', 'author_...   \n",
       "4      {'authorized_name': 'stephanus abbas 4. or 6th...   \n",
       "...                                                  ...   \n",
       "21966  {'authorized_name': 'schmidt, paul wilhelm, 18...   \n",
       "21967  {'authorized_name': 'stephanus abbas 4. or 6th...   \n",
       "21968  {'authorized_name': 'persius', 'author_id': 'A...   \n",
       "21969  {'authorized_name': 'josephus, flavius', 'auth...   \n",
       "21970  {'authorized_name': 'stephanus abbas 4. or 6th...   \n",
       "\n",
       "       distilbert_author_score  \\\n",
       "0                           46   \n",
       "1                           99   \n",
       "2                           49   \n",
       "3                           99   \n",
       "4                           17   \n",
       "...                        ...   \n",
       "21966                       45   \n",
       "21967                       17   \n",
       "21968                      100   \n",
       "21969                       52   \n",
       "21970                       17   \n",
       "\n",
       "                                                   title  \\\n",
       "0      Historiæ canadensis, seu Novæ-Franciæ libri de...   \n",
       "1      Ernesti Meyer de plantis labradoricis libri tres.   \n",
       "2      Novus orbis, seu Descriptionis Indiae Occident...   \n",
       "3      C. Julii Cæsaris commentariorum De Bello Galli...   \n",
       "4      Collectanea latina seu ecclesiasticæ antiquita...   \n",
       "...                                                  ...   \n",
       "21966  Prolegomena in Juliani imperatoris libros quib...   \n",
       "21967  Cvlex carmen Vergilio ascriptvm; recensvit et ...   \n",
       "21968  A. Persii flacci Satirarum liber Ex recensione...   \n",
       "21969  Liber decem quaestionum contra Christianos auc...   \n",
       "21970  Imperatoris Iustiniani Institutionum libri qua...   \n",
       "\n",
       "      matched_title_deterministic matched_title_fuzzy  fuzzy_title_score  \\\n",
       "0                         Unknown             Unknown                0.0   \n",
       "1                         Unknown             Unknown                0.0   \n",
       "2                         Unknown             Unknown                0.0   \n",
       "3                         Unknown             Unknown                0.0   \n",
       "4                         Unknown             Unknown                0.0   \n",
       "...                           ...                 ...                ...   \n",
       "21966                     Unknown             Unknown                0.0   \n",
       "21967                     Unknown             Unknown                0.0   \n",
       "21968                     Unknown             Unknown                0.0   \n",
       "21969                     Unknown             Unknown                0.0   \n",
       "21970                     Unknown             Unknown                0.0   \n",
       "\n",
       "      fuzzy_author_score_range distilbert_author_score_range  \n",
       "0                          NaN                           NaN  \n",
       "1                          NaN                       95-100%  \n",
       "2                          NaN                           NaN  \n",
       "3                          NaN                       95-100%  \n",
       "4                          NaN                           NaN  \n",
       "...                        ...                           ...  \n",
       "21966                      NaN                           NaN  \n",
       "21967                      NaN                           NaN  \n",
       "21968                      NaN                           NaN  \n",
       "21969                      NaN                           NaN  \n",
       "21970                      NaN                           NaN  \n",
       "\n",
       "[21971 rows x 12 columns]"
      ]
     },
     "execution_count": 36,
     "metadata": {},
     "output_type": "execute_result"
    }
   ],
   "source": [
    "metrics"
   ]
  },
  {
   "cell_type": "markdown",
   "metadata": {},
   "source": [
    "I want to take a closer look at the DistilBERT model's matches in each range."
   ]
  },
  {
   "cell_type": "code",
   "execution_count": 18,
   "metadata": {},
   "outputs": [],
   "source": [
    "db_95_100 = metrics[metrics['distilbert_author_score_range'] == \"95-100%\"]\n",
    "db_95_100 = db_95_100[['author','distilbert_author']]\n",
    "grouped = db_95_100.groupby(['author','distilbert_author']).value_counts().to_frame().reset_index()\n",
    "grouped.to_csv('../output/grouped_distilbert_author_matches.csv',index=False,encoding='utf-8',quoting=csv.QUOTE_ALL)"
   ]
  },
  {
   "cell_type": "code",
   "execution_count": 19,
   "metadata": {},
   "outputs": [
    {
     "data": {
      "text/html": [
       "<div>\n",
       "<style scoped>\n",
       "    .dataframe tbody tr th:only-of-type {\n",
       "        vertical-align: middle;\n",
       "    }\n",
       "\n",
       "    .dataframe tbody tr th {\n",
       "        vertical-align: top;\n",
       "    }\n",
       "\n",
       "    .dataframe thead th {\n",
       "        text-align: right;\n",
       "    }\n",
       "</style>\n",
       "<table border=\"1\" class=\"dataframe\">\n",
       "  <thead>\n",
       "    <tr style=\"text-align: right;\">\n",
       "      <th></th>\n",
       "      <th>author</th>\n",
       "      <th>distilbert_author</th>\n",
       "      <th>count</th>\n",
       "    </tr>\n",
       "  </thead>\n",
       "  <tbody>\n",
       "    <tr>\n",
       "      <th>0</th>\n",
       "      <td>Abbo, Monk of St. Germain, approximately 850-a...</td>\n",
       "      <td>{'authorized_name': 'abbo, monk of st. germain...</td>\n",
       "      <td>1</td>\n",
       "    </tr>\n",
       "    <tr>\n",
       "      <th>1</th>\n",
       "      <td>Abelard, Peter, 1079-1142.</td>\n",
       "      <td>{'authorized_name': 'abelard, peter', 'author_...</td>\n",
       "      <td>2</td>\n",
       "    </tr>\n",
       "    <tr>\n",
       "      <th>2</th>\n",
       "      <td>Acosta, Jose de, 1540-1600.</td>\n",
       "      <td>{'authorized_name': 'acosta, josé de, 1540-16...</td>\n",
       "      <td>1</td>\n",
       "    </tr>\n",
       "    <tr>\n",
       "      <th>3</th>\n",
       "      <td>Acosta, José de, 1540-1600,</td>\n",
       "      <td>{'authorized_name': 'acosta, josé de, 1540-16...</td>\n",
       "      <td>1</td>\n",
       "    </tr>\n",
       "    <tr>\n",
       "      <th>4</th>\n",
       "      <td>Acosta, José de, 1540-1600.</td>\n",
       "      <td>{'authorized_name': 'acosta, josé de, 1540-16...</td>\n",
       "      <td>4</td>\n",
       "    </tr>\n",
       "    <tr>\n",
       "      <th>...</th>\n",
       "      <td>...</td>\n",
       "      <td>...</td>\n",
       "      <td>...</td>\n",
       "    </tr>\n",
       "    <tr>\n",
       "      <th>2264</th>\n",
       "      <td>Zumpt, A. W. 1815-1877.</td>\n",
       "      <td>{'authorized_name': 'zumpt, a. w. (august wilh...</td>\n",
       "      <td>2</td>\n",
       "    </tr>\n",
       "    <tr>\n",
       "      <th>2265</th>\n",
       "      <td>Zwingli, Ulrich 1484-1531.</td>\n",
       "      <td>{'authorized_name': 'zwingli, ulrich, 1484-153...</td>\n",
       "      <td>2</td>\n",
       "    </tr>\n",
       "    <tr>\n",
       "      <th>2266</th>\n",
       "      <td>Zwingli, Ulrich, 1484-1531.</td>\n",
       "      <td>{'authorized_name': 'zwingli, ulrich, 1484-153...</td>\n",
       "      <td>11</td>\n",
       "    </tr>\n",
       "    <tr>\n",
       "      <th>2267</th>\n",
       "      <td>Ḥillī, Ṣafī al-Dīn ʻAbd al-ʻAzīz ibn Sarāyā, 1...</td>\n",
       "      <td>{'authorized_name': 'avicenna, 980-1037', 'aut...</td>\n",
       "      <td>1</td>\n",
       "    </tr>\n",
       "    <tr>\n",
       "      <th>2268</th>\n",
       "      <td>Ḥārith ibn Ḥillizah, active 6th century.</td>\n",
       "      <td>{'authorized_name': 'avicenna, 980-1037', 'aut...</td>\n",
       "      <td>2</td>\n",
       "    </tr>\n",
       "  </tbody>\n",
       "</table>\n",
       "<p>2269 rows × 3 columns</p>\n",
       "</div>"
      ],
      "text/plain": [
       "                                                 author  \\\n",
       "0     Abbo, Monk of St. Germain, approximately 850-a...   \n",
       "1                            Abelard, Peter, 1079-1142.   \n",
       "2                           Acosta, Jose de, 1540-1600.   \n",
       "3                          Acosta, José de, 1540-1600,   \n",
       "4                           Acosta, José de, 1540-1600.   \n",
       "...                                                 ...   \n",
       "2264                            Zumpt, A. W. 1815-1877.   \n",
       "2265                         Zwingli, Ulrich 1484-1531.   \n",
       "2266                        Zwingli, Ulrich, 1484-1531.   \n",
       "2267  Ḥillī, Ṣafī al-Dīn ʻAbd al-ʻAzīz ibn Sarāyā, 1...   \n",
       "2268           Ḥārith ibn Ḥillizah, active 6th century.   \n",
       "\n",
       "                                      distilbert_author  count  \n",
       "0     {'authorized_name': 'abbo, monk of st. germain...      1  \n",
       "1     {'authorized_name': 'abelard, peter', 'author_...      2  \n",
       "2     {'authorized_name': 'acosta, josé de, 1540-16...      1  \n",
       "3     {'authorized_name': 'acosta, josé de, 1540-16...      1  \n",
       "4     {'authorized_name': 'acosta, josé de, 1540-16...      4  \n",
       "...                                                 ...    ...  \n",
       "2264  {'authorized_name': 'zumpt, a. w. (august wilh...      2  \n",
       "2265  {'authorized_name': 'zwingli, ulrich, 1484-153...      2  \n",
       "2266  {'authorized_name': 'zwingli, ulrich, 1484-153...     11  \n",
       "2267  {'authorized_name': 'avicenna, 980-1037', 'aut...      1  \n",
       "2268  {'authorized_name': 'avicenna, 980-1037', 'aut...      2  \n",
       "\n",
       "[2269 rows x 3 columns]"
      ]
     },
     "execution_count": 19,
     "metadata": {},
     "output_type": "execute_result"
    }
   ],
   "source": [
    "grouped"
   ]
  },
  {
   "cell_type": "code",
   "execution_count": 20,
   "metadata": {},
   "outputs": [],
   "source": [
    "# Use the `normalize_author_name()` utility function to lower the `author` value and remove punctuation.\n",
    "import utilities as utilities\n",
    "db_95_100['stripped_author'] = db_95_100['author'].apply(lambda x: utilities.normalize_author_name(x))\n",
    "\n",
    "import ast\n",
    "db_95_100['distil_author_only'] = db_95_100['distilbert_author'].apply(lambda x: ast.literal_eval(x)['authorized_name'] if isinstance(x, str) else x['authorized_name'])\n",
    "db_95_100['distil_author_only'] = db_95_100['distil_author_only'].apply(lambda x: utilities.normalize_author_name(x))\n",
    "\n",
    "db_95_100 = db_95_100[['stripped_author','distil_author_only']]\n",
    "\n",
    "\n"
   ]
  },
  {
   "cell_type": "code",
   "execution_count": 21,
   "metadata": {},
   "outputs": [
    {
     "data": {
      "text/html": [
       "<div>\n",
       "<style scoped>\n",
       "    .dataframe tbody tr th:only-of-type {\n",
       "        vertical-align: middle;\n",
       "    }\n",
       "\n",
       "    .dataframe tbody tr th {\n",
       "        vertical-align: top;\n",
       "    }\n",
       "\n",
       "    .dataframe thead th {\n",
       "        text-align: right;\n",
       "    }\n",
       "</style>\n",
       "<table border=\"1\" class=\"dataframe\">\n",
       "  <thead>\n",
       "    <tr style=\"text-align: right;\">\n",
       "      <th></th>\n",
       "      <th>stripped_author</th>\n",
       "      <th>distil_author_only</th>\n",
       "    </tr>\n",
       "  </thead>\n",
       "  <tbody>\n",
       "    <tr>\n",
       "      <th>1</th>\n",
       "      <td>meyer ernst h f 17911858</td>\n",
       "      <td>meyer wilhelm 18451917</td>\n",
       "    </tr>\n",
       "    <tr>\n",
       "      <th>3</th>\n",
       "      <td>caesar julius</td>\n",
       "      <td>caesar julius</td>\n",
       "    </tr>\n",
       "    <tr>\n",
       "      <th>5</th>\n",
       "      <td>drexel jeremias 15811638</td>\n",
       "      <td>drepanius florus 5th century</td>\n",
       "    </tr>\n",
       "    <tr>\n",
       "      <th>6</th>\n",
       "      <td>kircher athanasius 16021680</td>\n",
       "      <td>kircher athanasius 16021680</td>\n",
       "    </tr>\n",
       "    <tr>\n",
       "      <th>11</th>\n",
       "      <td>hincmar archbishop of reims approximately 806882</td>\n",
       "      <td>hincmar archbishop of reims</td>\n",
       "    </tr>\n",
       "    <tr>\n",
       "      <th>...</th>\n",
       "      <td>...</td>\n",
       "      <td>...</td>\n",
       "    </tr>\n",
       "    <tr>\n",
       "      <th>21470</th>\n",
       "      <td>arntzenius hendrik jan 17351797</td>\n",
       "      <td>arntzenius johannes 17021759</td>\n",
       "    </tr>\n",
       "    <tr>\n",
       "      <th>21499</th>\n",
       "      <td>klotz christian adolph 17381771</td>\n",
       "      <td>klotz alfred 18741956</td>\n",
       "    </tr>\n",
       "    <tr>\n",
       "      <th>21697</th>\n",
       "      <td>ibn arabshah ahmad ibn muhammad 13921450</td>\n",
       "      <td>avicenna 9801037</td>\n",
       "    </tr>\n",
       "    <tr>\n",
       "      <th>21838</th>\n",
       "      <td>buchanan david 15951652</td>\n",
       "      <td>buchanan george</td>\n",
       "    </tr>\n",
       "    <tr>\n",
       "      <th>21875</th>\n",
       "      <td>campion thomas 15671620</td>\n",
       "      <td>campion thomas</td>\n",
       "    </tr>\n",
       "  </tbody>\n",
       "</table>\n",
       "<p>1873 rows × 2 columns</p>\n",
       "</div>"
      ],
      "text/plain": [
       "                                        stripped_author  \\\n",
       "1                              meyer ernst h f 17911858   \n",
       "3                                         caesar julius   \n",
       "5                              drexel jeremias 15811638   \n",
       "6                           kircher athanasius 16021680   \n",
       "11     hincmar archbishop of reims approximately 806882   \n",
       "...                                                 ...   \n",
       "21470                   arntzenius hendrik jan 17351797   \n",
       "21499                   klotz christian adolph 17381771   \n",
       "21697          ibn arabshah ahmad ibn muhammad 13921450   \n",
       "21838                           buchanan david 15951652   \n",
       "21875                           campion thomas 15671620   \n",
       "\n",
       "                 distil_author_only  \n",
       "1            meyer wilhelm 18451917  \n",
       "3                     caesar julius  \n",
       "5      drepanius florus 5th century  \n",
       "6       kircher athanasius 16021680  \n",
       "11      hincmar archbishop of reims  \n",
       "...                             ...  \n",
       "21470  arntzenius johannes 17021759  \n",
       "21499         klotz alfred 18741956  \n",
       "21697              avicenna 9801037  \n",
       "21838               buchanan george  \n",
       "21875                campion thomas  \n",
       "\n",
       "[1873 rows x 2 columns]"
      ]
     },
     "execution_count": 21,
     "metadata": {},
     "output_type": "execute_result"
    }
   ],
   "source": [
    "unique_authors = db_95_100.drop_duplicates(subset=['stripped_author','distil_author_only'])\n",
    "unique_authors"
   ]
  },
  {
   "cell_type": "markdown",
   "metadata": {},
   "source": [
    "I'll use the `partial_token_set_ratio` method from the rapidfuzz package to compare the two values in each row."
   ]
  },
  {
   "cell_type": "code",
   "execution_count": 22,
   "metadata": {},
   "outputs": [
    {
     "name": "stderr",
     "output_type": "stream",
     "text": [
      "/var/folders/73/ldt1v6c15m52k8nzfbwmbvg00000gn/T/ipykernel_70429/870449270.py:3: SettingWithCopyWarning: \n",
      "A value is trying to be set on a copy of a slice from a DataFrame.\n",
      "Try using .loc[row_indexer,col_indexer] = value instead\n",
      "\n",
      "See the caveats in the documentation: https://pandas.pydata.org/pandas-docs/stable/user_guide/indexing.html#returning-a-view-versus-a-copy\n",
      "  unique_authors.loc[:,'partial_token_set'] = [\n",
      "/var/folders/73/ldt1v6c15m52k8nzfbwmbvg00000gn/T/ipykernel_70429/870449270.py:8: SettingWithCopyWarning: \n",
      "A value is trying to be set on a copy of a slice from a DataFrame.\n",
      "Try using .loc[row_indexer,col_indexer] = value instead\n",
      "\n",
      "See the caveats in the documentation: https://pandas.pydata.org/pandas-docs/stable/user_guide/indexing.html#returning-a-view-versus-a-copy\n",
      "  unique_authors.loc[:,'token_set'] = [\n",
      "/var/folders/73/ldt1v6c15m52k8nzfbwmbvg00000gn/T/ipykernel_70429/870449270.py:13: SettingWithCopyWarning: \n",
      "A value is trying to be set on a copy of a slice from a DataFrame.\n",
      "Try using .loc[row_indexer,col_indexer] = value instead\n",
      "\n",
      "See the caveats in the documentation: https://pandas.pydata.org/pandas-docs/stable/user_guide/indexing.html#returning-a-view-versus-a-copy\n",
      "  unique_authors.loc[:,'token_sort'] = [\n"
     ]
    }
   ],
   "source": [
    "from rapidfuzz import fuzz, process\n",
    "\n",
    "unique_authors.loc[:,'partial_token_set'] = [\n",
    "    fuzz.partial_token_set_ratio(a, b)\n",
    "    for a, b in zip(unique_authors['stripped_author'], unique_authors['distil_author_only'])\n",
    "]\n",
    "\n",
    "unique_authors.loc[:,'token_set'] = [\n",
    "    fuzz.token_set_ratio(a, b)\n",
    "    for a, b in zip(unique_authors['stripped_author'], unique_authors['distil_author_only'])\n",
    "]\n",
    "\n",
    "unique_authors.loc[:,'token_sort'] = [\n",
    "    fuzz.token_sort_ratio(a, b)\n",
    "    for a, b in zip(unique_authors['stripped_author'], unique_authors['distil_author_only'])\n",
    "]\n",
    "\n",
    "unique_authors.to_csv('../output/unique_authors_fuzzy_scores.csv',index=False,encoding='utf-8',quoting=csv.QUOTE_ALL)"
   ]
  },
  {
   "cell_type": "code",
   "execution_count": 23,
   "metadata": {},
   "outputs": [],
   "source": [
    "unique_authors = pd.read_csv('../output/unique_authors_fuzzy_scores.csv')"
   ]
  },
  {
   "cell_type": "code",
   "execution_count": 24,
   "metadata": {},
   "outputs": [],
   "source": [
    "unique_authors['std'] = unique_authors.std(axis=1, numeric_only=True)"
   ]
  },
  {
   "cell_type": "code",
   "execution_count": 25,
   "metadata": {},
   "outputs": [
    {
     "data": {
      "text/html": [
       "<div>\n",
       "<style scoped>\n",
       "    .dataframe tbody tr th:only-of-type {\n",
       "        vertical-align: middle;\n",
       "    }\n",
       "\n",
       "    .dataframe tbody tr th {\n",
       "        vertical-align: top;\n",
       "    }\n",
       "\n",
       "    .dataframe thead th {\n",
       "        text-align: right;\n",
       "    }\n",
       "</style>\n",
       "<table border=\"1\" class=\"dataframe\">\n",
       "  <thead>\n",
       "    <tr style=\"text-align: right;\">\n",
       "      <th></th>\n",
       "      <th>stripped_author</th>\n",
       "      <th>distil_author_only</th>\n",
       "      <th>partial_token_set</th>\n",
       "      <th>token_set</th>\n",
       "      <th>token_sort</th>\n",
       "      <th>std</th>\n",
       "    </tr>\n",
       "  </thead>\n",
       "  <tbody>\n",
       "    <tr>\n",
       "      <th>0</th>\n",
       "      <td>meyer ernst h f 17911858</td>\n",
       "      <td>meyer wilhelm 18451917</td>\n",
       "      <td>100.000000</td>\n",
       "      <td>47.826087</td>\n",
       "      <td>39.130435</td>\n",
       "      <td>32.921208</td>\n",
       "    </tr>\n",
       "    <tr>\n",
       "      <th>1</th>\n",
       "      <td>caesar julius</td>\n",
       "      <td>caesar julius</td>\n",
       "      <td>100.000000</td>\n",
       "      <td>100.000000</td>\n",
       "      <td>100.000000</td>\n",
       "      <td>0.000000</td>\n",
       "    </tr>\n",
       "    <tr>\n",
       "      <th>2</th>\n",
       "      <td>drexel jeremias 15811638</td>\n",
       "      <td>drepanius florus 5th century</td>\n",
       "      <td>35.555556</td>\n",
       "      <td>30.769231</td>\n",
       "      <td>30.769231</td>\n",
       "      <td>2.763386</td>\n",
       "    </tr>\n",
       "    <tr>\n",
       "      <th>3</th>\n",
       "      <td>kircher athanasius 16021680</td>\n",
       "      <td>kircher athanasius 16021680</td>\n",
       "      <td>100.000000</td>\n",
       "      <td>100.000000</td>\n",
       "      <td>100.000000</td>\n",
       "      <td>0.000000</td>\n",
       "    </tr>\n",
       "    <tr>\n",
       "      <th>4</th>\n",
       "      <td>hincmar archbishop of reims approximately 806882</td>\n",
       "      <td>hincmar archbishop of reims</td>\n",
       "      <td>100.000000</td>\n",
       "      <td>100.000000</td>\n",
       "      <td>72.000000</td>\n",
       "      <td>16.165808</td>\n",
       "    </tr>\n",
       "    <tr>\n",
       "      <th>...</th>\n",
       "      <td>...</td>\n",
       "      <td>...</td>\n",
       "      <td>...</td>\n",
       "      <td>...</td>\n",
       "      <td>...</td>\n",
       "      <td>...</td>\n",
       "    </tr>\n",
       "    <tr>\n",
       "      <th>1868</th>\n",
       "      <td>arntzenius hendrik jan 17351797</td>\n",
       "      <td>arntzenius johannes 17021759</td>\n",
       "      <td>100.000000</td>\n",
       "      <td>67.796610</td>\n",
       "      <td>67.796610</td>\n",
       "      <td>18.592636</td>\n",
       "    </tr>\n",
       "    <tr>\n",
       "      <th>1869</th>\n",
       "      <td>klotz christian adolph 17381771</td>\n",
       "      <td>klotz alfred 18741956</td>\n",
       "      <td>100.000000</td>\n",
       "      <td>53.846154</td>\n",
       "      <td>53.846154</td>\n",
       "      <td>26.646936</td>\n",
       "    </tr>\n",
       "    <tr>\n",
       "      <th>1870</th>\n",
       "      <td>ibn arabshah ahmad ibn muhammad 13921450</td>\n",
       "      <td>avicenna 9801037</td>\n",
       "      <td>41.379310</td>\n",
       "      <td>30.769231</td>\n",
       "      <td>32.142857</td>\n",
       "      <td>5.770221</td>\n",
       "    </tr>\n",
       "    <tr>\n",
       "      <th>1871</th>\n",
       "      <td>buchanan david 15951652</td>\n",
       "      <td>buchanan george</td>\n",
       "      <td>100.000000</td>\n",
       "      <td>69.565217</td>\n",
       "      <td>47.368421</td>\n",
       "      <td>26.423023</td>\n",
       "    </tr>\n",
       "    <tr>\n",
       "      <th>1872</th>\n",
       "      <td>campion thomas 15671620</td>\n",
       "      <td>campion thomas</td>\n",
       "      <td>100.000000</td>\n",
       "      <td>100.000000</td>\n",
       "      <td>75.675676</td>\n",
       "      <td>14.043655</td>\n",
       "    </tr>\n",
       "  </tbody>\n",
       "</table>\n",
       "<p>1873 rows × 6 columns</p>\n",
       "</div>"
      ],
      "text/plain": [
       "                                       stripped_author  \\\n",
       "0                             meyer ernst h f 17911858   \n",
       "1                                        caesar julius   \n",
       "2                             drexel jeremias 15811638   \n",
       "3                          kircher athanasius 16021680   \n",
       "4     hincmar archbishop of reims approximately 806882   \n",
       "...                                                ...   \n",
       "1868                   arntzenius hendrik jan 17351797   \n",
       "1869                   klotz christian adolph 17381771   \n",
       "1870          ibn arabshah ahmad ibn muhammad 13921450   \n",
       "1871                           buchanan david 15951652   \n",
       "1872                           campion thomas 15671620   \n",
       "\n",
       "                distil_author_only  partial_token_set   token_set  token_sort  \\\n",
       "0           meyer wilhelm 18451917         100.000000   47.826087   39.130435   \n",
       "1                    caesar julius         100.000000  100.000000  100.000000   \n",
       "2     drepanius florus 5th century          35.555556   30.769231   30.769231   \n",
       "3      kircher athanasius 16021680         100.000000  100.000000  100.000000   \n",
       "4      hincmar archbishop of reims         100.000000  100.000000   72.000000   \n",
       "...                            ...                ...         ...         ...   \n",
       "1868  arntzenius johannes 17021759         100.000000   67.796610   67.796610   \n",
       "1869         klotz alfred 18741956         100.000000   53.846154   53.846154   \n",
       "1870              avicenna 9801037          41.379310   30.769231   32.142857   \n",
       "1871               buchanan george         100.000000   69.565217   47.368421   \n",
       "1872                campion thomas         100.000000  100.000000   75.675676   \n",
       "\n",
       "            std  \n",
       "0     32.921208  \n",
       "1      0.000000  \n",
       "2      2.763386  \n",
       "3      0.000000  \n",
       "4     16.165808  \n",
       "...         ...  \n",
       "1868  18.592636  \n",
       "1869  26.646936  \n",
       "1870   5.770221  \n",
       "1871  26.423023  \n",
       "1872  14.043655  \n",
       "\n",
       "[1873 rows x 6 columns]"
      ]
     },
     "execution_count": 25,
     "metadata": {},
     "output_type": "execute_result"
    }
   ],
   "source": [
    "unique_authors"
   ]
  },
  {
   "cell_type": "code",
   "execution_count": 26,
   "metadata": {},
   "outputs": [
    {
     "name": "stdout",
     "output_type": "stream",
     "text": [
      "Counts for std:\n",
      "std_range\n",
      "0    441\n",
      "1     77\n",
      "2     72\n",
      "3     85\n",
      "4     86\n",
      "5     83\n",
      "Name: count, dtype: int64\n",
      "\n",
      "\n"
     ]
    }
   ],
   "source": [
    "# Assuming 'df' is your original DataFrame with the metrics\n",
    "bins = [0,1,2,3,4,5,6]\n",
    "labels = [0,1,2,3,4,5]\n",
    "# Applying pd.cut and counting values for each metric\n",
    "for metric in ['std']:\n",
    "    unique_authors[f'{metric}_range'] = pd.cut(unique_authors[metric], bins=bins, labels=labels, right=False)\n",
    "    print(f\"Counts for {metric}:\")\n",
    "    print(unique_authors[f'{metric}_range'].value_counts().sort_index())\n",
    "    print(\"\\n\")"
   ]
  },
  {
   "cell_type": "markdown",
   "metadata": {},
   "source": [
    "## What about Titles?\n",
    "\n",
    "This is where the automation really matters. If it can't handle titles accurately, it hasn't really saved much time, since titles take by far that longest amount of time to reconcile manually.\n",
    "\n",
    "This is where the approach might need adjustment. Specifically, I need to consider using the DistilBERT matching score as the trigger for narrowing down the potential titles to be matched."
   ]
  },
  {
   "cell_type": "code",
   "execution_count": 27,
   "metadata": {},
   "outputs": [],
   "source": [
    "# title_df = df[['author','title','deterministic_title', 'fuzzy_author','fuzzy_title','fuzzy_title_score']]"
   ]
  },
  {
   "cell_type": "code",
   "execution_count": 28,
   "metadata": {},
   "outputs": [],
   "source": [
    "# title_df"
   ]
  },
  {
   "cell_type": "code",
   "execution_count": 29,
   "metadata": {},
   "outputs": [],
   "source": [
    "# title_df.to_csv('../data/titles.csv')"
   ]
  },
  {
   "cell_type": "code",
   "execution_count": null,
   "metadata": {},
   "outputs": [],
   "source": []
  }
 ],
 "metadata": {
  "kernelspec": {
   "display_name": "hybrid",
   "language": "python",
   "name": "python3"
  },
  "language_info": {
   "codemirror_mode": {
    "name": "ipython",
    "version": 3
   },
   "file_extension": ".py",
   "mimetype": "text/x-python",
   "name": "python",
   "nbconvert_exporter": "python",
   "pygments_lexer": "ipython3",
   "version": "3.10.15"
  }
 },
 "nbformat": 4,
 "nbformat_minor": 2
}
