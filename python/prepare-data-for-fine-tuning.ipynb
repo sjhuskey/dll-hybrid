{
 "cells": [
  {
   "cell_type": "markdown",
   "metadata": {},
   "source": [
    "# Prepare Data for Fine-Tuning the Distilbert Model"
   ]
  },
  {
   "cell_type": "code",
   "execution_count": 1,
   "metadata": {},
   "outputs": [
    {
     "name": "stdout",
     "output_type": "stream",
     "text": [
      "<class 'pandas.core.frame.DataFrame'>\n",
      "RangeIndex: 27290 entries, 0 to 27289\n",
      "Data columns (total 3 columns):\n",
      " #   Column                   Non-Null Count  Dtype \n",
      "---  ------                   --------------  ----- \n",
      " 0   Variant                  27290 non-null  object\n",
      " 1   Authorized Name          27290 non-null  object\n",
      " 2   DLL Identifier (Author)  27290 non-null  object\n",
      "dtypes: object(3)\n",
      "memory usage: 639.7+ KB\n"
     ]
    }
   ],
   "source": [
    "import pandas as pd\n",
    "\n",
    "# Read in the existing \"authors\" data from the DLL Catalog\n",
    "df = pd.read_csv('../data/authors_db.csv',encoding='utf-8',quotechar='\"')\n",
    "\n",
    "# Check the basic information\n",
    "df.info()"
   ]
  },
  {
   "cell_type": "code",
   "execution_count": 2,
   "metadata": {},
   "outputs": [
    {
     "name": "stdout",
     "output_type": "stream",
     "text": [
      "<class 'pandas.core.frame.DataFrame'>\n",
      "RangeIndex: 27290 entries, 0 to 27289\n",
      "Data columns (total 2 columns):\n",
      " #   Column                   Non-Null Count  Dtype \n",
      "---  ------                   --------------  ----- \n",
      " 0   Variant                  27290 non-null  object\n",
      " 1   DLL Identifier (Author)  27290 non-null  object\n",
      "dtypes: object(2)\n",
      "memory usage: 426.5+ KB\n"
     ]
    }
   ],
   "source": [
    "# Remove the \"Authorized Name\" column\n",
    "df = df.drop(columns=['Authorized Name'])\n",
    "df.info()"
   ]
  },
  {
   "cell_type": "code",
   "execution_count": 3,
   "metadata": {},
   "outputs": [],
   "source": [
    "# Rename the columns\n",
    "df = df.rename(columns={'Variant':'variant','DLL Identifier (Author)':'dll_author_id'})"
   ]
  },
  {
   "cell_type": "code",
   "execution_count": null,
   "metadata": {},
   "outputs": [],
   "source": [
    "# Write the dataframe to a CSV for later use\n",
    "import csv\n",
    "df.to_csv('../data/distilbert-data.csv',index=False,quoting=csv.QUOTE_ALL)"
   ]
  }
 ],
 "metadata": {
  "kernelspec": {
   "display_name": "hybrid",
   "language": "python",
   "name": "python3"
  },
  "language_info": {
   "codemirror_mode": {
    "name": "ipython",
    "version": 3
   },
   "file_extension": ".py",
   "mimetype": "text/x-python",
   "name": "python",
   "nbconvert_exporter": "python",
   "pygments_lexer": "ipython3",
   "version": "3.10.15"
  }
 },
 "nbformat": 4,
 "nbformat_minor": 2
}
