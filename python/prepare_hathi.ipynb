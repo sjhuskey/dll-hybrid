{
 "cells": [
  {
   "cell_type": "code",
   "execution_count": 1,
   "metadata": {},
   "outputs": [],
   "source": [
    "import pandas as pd"
   ]
  },
  {
   "cell_type": "code",
   "execution_count": 3,
   "metadata": {},
   "outputs": [],
   "source": [
    "df = pd.read_csv('../data/1908698974-1722799169.txt', sep='\\t',encoding='utf-8')"
   ]
  },
  {
   "cell_type": "code",
   "execution_count": 5,
   "metadata": {},
   "outputs": [
    {
     "data": {
      "text/plain": [
       "Index(['htid', 'access', 'rights', 'ht_bib_key', 'description', 'source',\n",
       "       'source_bib_num', 'oclc_num', 'isbn', 'issn', 'lccn', 'title',\n",
       "       'imprint', 'rights_reason_code', 'rights_timestamp', 'us_gov_doc_flag',\n",
       "       'rights_date_used', 'pub_place', 'lang', 'bib_fmt', 'collection_code',\n",
       "       'content_provider_code', 'responsible_entity_code',\n",
       "       'digitization_agent_code', 'access_profile_code', 'author',\n",
       "       'catalog_url', 'handle_url'],\n",
       "      dtype='object')"
      ]
     },
     "execution_count": 5,
     "metadata": {},
     "output_type": "execute_result"
    }
   ],
   "source": [
    "df.columns"
   ]
  },
  {
   "cell_type": "code",
   "execution_count": 6,
   "metadata": {},
   "outputs": [],
   "source": [
    "df = df[['author','title','imprint','pub_place','rights_date_used','handle_url']]"
   ]
  },
  {
   "cell_type": "code",
   "execution_count": 7,
   "metadata": {},
   "outputs": [],
   "source": [
    "df = df.rename(columns={'imprint':'publisher','pub_place':'place','rights_date_used':'year','handle_url':'url'})"
   ]
  },
  {
   "cell_type": "code",
   "execution_count": 8,
   "metadata": {},
   "outputs": [
    {
     "data": {
      "text/html": [
       "<div>\n",
       "<style scoped>\n",
       "    .dataframe tbody tr th:only-of-type {\n",
       "        vertical-align: middle;\n",
       "    }\n",
       "\n",
       "    .dataframe tbody tr th {\n",
       "        vertical-align: top;\n",
       "    }\n",
       "\n",
       "    .dataframe thead th {\n",
       "        text-align: right;\n",
       "    }\n",
       "</style>\n",
       "<table border=\"1\" class=\"dataframe\">\n",
       "  <thead>\n",
       "    <tr style=\"text-align: right;\">\n",
       "      <th></th>\n",
       "      <th>author</th>\n",
       "      <th>title</th>\n",
       "      <th>publisher</th>\n",
       "      <th>place</th>\n",
       "      <th>year</th>\n",
       "      <th>url</th>\n",
       "    </tr>\n",
       "  </thead>\n",
       "  <tbody>\n",
       "    <tr>\n",
       "      <th>0</th>\n",
       "      <td>Du Creux, François, 1596?-1666.</td>\n",
       "      <td>Historiæ canadensis, seu Novæ-Franciæ libri de...</td>\n",
       "      <td>Apud Sebastianum Cramoisy et Sebast. Mabre-Cra...</td>\n",
       "      <td>fr</td>\n",
       "      <td>1664</td>\n",
       "      <td>https://hdl.handle.net/2027/aeu.ark:/13960/t25...</td>\n",
       "    </tr>\n",
       "    <tr>\n",
       "      <th>1</th>\n",
       "      <td>Meyer, Ernst H. F. 1791-1858.</td>\n",
       "      <td>Ernesti Meyer de plantis labradoricis libri tres.</td>\n",
       "      <td>Sumtibus Leopoldi Vossii, 1830.</td>\n",
       "      <td>gw</td>\n",
       "      <td>1830</td>\n",
       "      <td>https://hdl.handle.net/2027/aeu.ark:/13960/t5q...</td>\n",
       "    </tr>\n",
       "    <tr>\n",
       "      <th>2</th>\n",
       "      <td>Laet, Joannes de, 1593-1649.</td>\n",
       "      <td>Novus orbis, seu Descriptionis Indiae Occident...</td>\n",
       "      <td>Apud Elzevirios, 1633.</td>\n",
       "      <td>ne</td>\n",
       "      <td>1633</td>\n",
       "      <td>https://hdl.handle.net/2027/aeu.ark:/13960/t61...</td>\n",
       "    </tr>\n",
       "    <tr>\n",
       "      <th>3</th>\n",
       "      <td>Caesar, Julius</td>\n",
       "      <td>C. Julii Cæsaris commentariorum De Bello Galli...</td>\n",
       "      <td>Armour and Ramsay, 1849.</td>\n",
       "      <td>quc</td>\n",
       "      <td>1849</td>\n",
       "      <td>https://hdl.handle.net/2027/aeu.ark:/13960/t6t...</td>\n",
       "    </tr>\n",
       "    <tr>\n",
       "      <th>4</th>\n",
       "      <td>NaN</td>\n",
       "      <td>Collectanea latina seu ecclesiasticæ antiquita...</td>\n",
       "      <td>[s.n.], 1853.</td>\n",
       "      <td>onc</td>\n",
       "      <td>1853</td>\n",
       "      <td>https://hdl.handle.net/2027/aeu.ark:/13960/t77...</td>\n",
       "    </tr>\n",
       "    <tr>\n",
       "      <th>...</th>\n",
       "      <td>...</td>\n",
       "      <td>...</td>\n",
       "      <td>...</td>\n",
       "      <td>...</td>\n",
       "      <td>...</td>\n",
       "      <td>...</td>\n",
       "    </tr>\n",
       "    <tr>\n",
       "      <th>24794</th>\n",
       "      <td>Neumann, Karl Johannes, 1857-</td>\n",
       "      <td>Prolegomena in Juliani imperatoris libros quib...</td>\n",
       "      <td>typis B.G. Teubneri, 1880.</td>\n",
       "      <td>gw</td>\n",
       "      <td>1880</td>\n",
       "      <td>https://hdl.handle.net/2027/yale.39002054083531</td>\n",
       "    </tr>\n",
       "    <tr>\n",
       "      <th>24795</th>\n",
       "      <td>NaN</td>\n",
       "      <td>Cvlex carmen Vergilio ascriptvm; recensvit et ...</td>\n",
       "      <td>Weidmann, 1891.</td>\n",
       "      <td>gw</td>\n",
       "      <td>1891</td>\n",
       "      <td>https://hdl.handle.net/2027/yul.12176050_000_00</td>\n",
       "    </tr>\n",
       "    <tr>\n",
       "      <th>24796</th>\n",
       "      <td>Persius.</td>\n",
       "      <td>A. Persii flacci Satirarum liber Ex recensione...</td>\n",
       "      <td>sumptibus et typis B.G. Teubneri, 1881.</td>\n",
       "      <td>gw</td>\n",
       "      <td>1881</td>\n",
       "      <td>https://hdl.handle.net/2027/yul.12248268_000_00</td>\n",
       "    </tr>\n",
       "    <tr>\n",
       "      <th>24797</th>\n",
       "      <td>Jaʻfarī, Ṣāliḥ ibn al-Ḥusayn, d. 1269 or ...</td>\n",
       "      <td>Liber decem quaestionum contra Christianos auc...</td>\n",
       "      <td>Typis Caroli Drobnig, 1897.</td>\n",
       "      <td>gw</td>\n",
       "      <td>1897</td>\n",
       "      <td>https://hdl.handle.net/2027/yul.12324064_000_00</td>\n",
       "    </tr>\n",
       "    <tr>\n",
       "      <th>24798</th>\n",
       "      <td>NaN</td>\n",
       "      <td>Imperatoris Iustiniani Institutionum libri qua...</td>\n",
       "      <td>Clarendon Press, 1903.</td>\n",
       "      <td>enk</td>\n",
       "      <td>1903</td>\n",
       "      <td>https://hdl.handle.net/2027/yul.12736221_000_00</td>\n",
       "    </tr>\n",
       "  </tbody>\n",
       "</table>\n",
       "<p>24799 rows × 6 columns</p>\n",
       "</div>"
      ],
      "text/plain": [
       "                                                  author  \\\n",
       "0                        Du Creux, François, 1596?-1666.   \n",
       "1                          Meyer, Ernst H. F. 1791-1858.   \n",
       "2                           Laet, Joannes de, 1593-1649.   \n",
       "3                                         Caesar, Julius   \n",
       "4                                                    NaN   \n",
       "...                                                  ...   \n",
       "24794                      Neumann, Karl Johannes, 1857-   \n",
       "24795                                                NaN   \n",
       "24796                                           Persius.   \n",
       "24797  Jaʻfarī, Ṣāliḥ ibn al-Ḥusayn, d. 1269 or ...   \n",
       "24798                                                NaN   \n",
       "\n",
       "                                                   title  \\\n",
       "0      Historiæ canadensis, seu Novæ-Franciæ libri de...   \n",
       "1      Ernesti Meyer de plantis labradoricis libri tres.   \n",
       "2      Novus orbis, seu Descriptionis Indiae Occident...   \n",
       "3      C. Julii Cæsaris commentariorum De Bello Galli...   \n",
       "4      Collectanea latina seu ecclesiasticæ antiquita...   \n",
       "...                                                  ...   \n",
       "24794  Prolegomena in Juliani imperatoris libros quib...   \n",
       "24795  Cvlex carmen Vergilio ascriptvm; recensvit et ...   \n",
       "24796  A. Persii flacci Satirarum liber Ex recensione...   \n",
       "24797  Liber decem quaestionum contra Christianos auc...   \n",
       "24798  Imperatoris Iustiniani Institutionum libri qua...   \n",
       "\n",
       "                                               publisher place  year  \\\n",
       "0      Apud Sebastianum Cramoisy et Sebast. Mabre-Cra...   fr   1664   \n",
       "1                        Sumtibus Leopoldi Vossii, 1830.   gw   1830   \n",
       "2                                 Apud Elzevirios, 1633.   ne   1633   \n",
       "3                               Armour and Ramsay, 1849.   quc  1849   \n",
       "4                                          [s.n.], 1853.   onc  1853   \n",
       "...                                                  ...   ...   ...   \n",
       "24794                         typis B.G. Teubneri, 1880.   gw   1880   \n",
       "24795                                    Weidmann, 1891.   gw   1891   \n",
       "24796            sumptibus et typis B.G. Teubneri, 1881.   gw   1881   \n",
       "24797                        Typis Caroli Drobnig, 1897.   gw   1897   \n",
       "24798                             Clarendon Press, 1903.   enk  1903   \n",
       "\n",
       "                                                     url  \n",
       "0      https://hdl.handle.net/2027/aeu.ark:/13960/t25...  \n",
       "1      https://hdl.handle.net/2027/aeu.ark:/13960/t5q...  \n",
       "2      https://hdl.handle.net/2027/aeu.ark:/13960/t61...  \n",
       "3      https://hdl.handle.net/2027/aeu.ark:/13960/t6t...  \n",
       "4      https://hdl.handle.net/2027/aeu.ark:/13960/t77...  \n",
       "...                                                  ...  \n",
       "24794    https://hdl.handle.net/2027/yale.39002054083531  \n",
       "24795    https://hdl.handle.net/2027/yul.12176050_000_00  \n",
       "24796    https://hdl.handle.net/2027/yul.12248268_000_00  \n",
       "24797    https://hdl.handle.net/2027/yul.12324064_000_00  \n",
       "24798    https://hdl.handle.net/2027/yul.12736221_000_00  \n",
       "\n",
       "[24799 rows x 6 columns]"
      ]
     },
     "execution_count": 8,
     "metadata": {},
     "output_type": "execute_result"
    }
   ],
   "source": [
    "df"
   ]
  },
  {
   "cell_type": "code",
   "execution_count": 9,
   "metadata": {},
   "outputs": [],
   "source": [
    "import csv\n",
    "df.to_csv('../data/hathi.csv',index=False,quoting=csv.QUOTE_ALL)"
   ]
  },
  {
   "cell_type": "code",
   "execution_count": null,
   "metadata": {},
   "outputs": [],
   "source": []
  }
 ],
 "metadata": {
  "kernelspec": {
   "display_name": "hybrid",
   "language": "python",
   "name": "python3"
  },
  "language_info": {
   "codemirror_mode": {
    "name": "ipython",
    "version": 3
   },
   "file_extension": ".py",
   "mimetype": "text/x-python",
   "name": "python",
   "nbconvert_exporter": "python",
   "pygments_lexer": "ipython3",
   "version": "3.10.15"
  }
 },
 "nbformat": 4,
 "nbformat_minor": 2
}
